{
 "cells": [
  {
   "cell_type": "markdown",
   "metadata": {},
   "source": [
    "Images fetched from myanimelist.com API"
   ]
  },
  {
   "cell_type": "markdown",
   "metadata": {},
   "source": [
    "Dataset: https://github.com/caserec/Datasets-for-Recommender-Systems, https://github.com/Hernan4444/MyAnimeList-Database"
   ]
  },
  {
   "cell_type": "markdown",
   "metadata": {},
   "source": [
    "Code"
   ]
  },
  {
   "cell_type": "code",
   "execution_count": 1,
   "metadata": {},
   "outputs": [],
   "source": [
    "import pandas as pd\n",
    "import numpy as np"
   ]
  },
  {
   "cell_type": "code",
   "execution_count": 2,
   "metadata": {},
   "outputs": [],
   "source": [
    "history = pd.read_csv('anime/anime_history.dat', sep='\\t') # games\n",
    "info = pd.read_csv('anime/anime_info.dat', sep='\\t')\n",
    "rating = pd.read_csv('anime/anime_ratings.dat', sep='\\t')\n",
    "\n",
    "mal_df = pd.read_csv('anime.csv')"
   ]
  },
  {
   "cell_type": "code",
   "execution_count": 3,
   "metadata": {},
   "outputs": [
    {
     "data": {
      "text/html": [
       "<div>\n",
       "<style scoped>\n",
       "    .dataframe tbody tr th:only-of-type {\n",
       "        vertical-align: middle;\n",
       "    }\n",
       "\n",
       "    .dataframe tbody tr th {\n",
       "        vertical-align: top;\n",
       "    }\n",
       "\n",
       "    .dataframe thead th {\n",
       "        text-align: right;\n",
       "    }\n",
       "</style>\n",
       "<table border=\"1\" class=\"dataframe\">\n",
       "  <thead>\n",
       "    <tr style=\"text-align: right;\">\n",
       "      <th></th>\n",
       "      <th>User_ID</th>\n",
       "      <th>Anime_ID</th>\n",
       "      <th>Feedback</th>\n",
       "    </tr>\n",
       "  </thead>\n",
       "  <tbody>\n",
       "    <tr>\n",
       "      <th>0</th>\n",
       "      <td>1</td>\n",
       "      <td>1</td>\n",
       "      <td>1</td>\n",
       "    </tr>\n",
       "    <tr>\n",
       "      <th>1</th>\n",
       "      <td>1</td>\n",
       "      <td>2</td>\n",
       "      <td>1</td>\n",
       "    </tr>\n",
       "    <tr>\n",
       "      <th>2</th>\n",
       "      <td>1</td>\n",
       "      <td>3</td>\n",
       "      <td>1</td>\n",
       "    </tr>\n",
       "    <tr>\n",
       "      <th>3</th>\n",
       "      <td>1</td>\n",
       "      <td>4</td>\n",
       "      <td>1</td>\n",
       "    </tr>\n",
       "    <tr>\n",
       "      <th>4</th>\n",
       "      <td>1</td>\n",
       "      <td>5</td>\n",
       "      <td>1</td>\n",
       "    </tr>\n",
       "  </tbody>\n",
       "</table>\n",
       "</div>"
      ],
      "text/plain": [
       "   User_ID  Anime_ID  Feedback\n",
       "0        1         1         1\n",
       "1        1         2         1\n",
       "2        1         3         1\n",
       "3        1         4         1\n",
       "4        1         5         1"
      ]
     },
     "execution_count": 3,
     "metadata": {},
     "output_type": "execute_result"
    }
   ],
   "source": [
    "history.head()"
   ]
  },
  {
   "cell_type": "code",
   "execution_count": 7,
   "metadata": {},
   "outputs": [
    {
     "data": {
      "text/plain": [
       "((6627, 41), (17562, 35))"
      ]
     },
     "execution_count": 7,
     "metadata": {},
     "output_type": "execute_result"
    }
   ],
   "source": [
    "info.shape, mal_df.shape"
   ]
  },
  {
   "cell_type": "code",
   "execution_count": 8,
   "metadata": {},
   "outputs": [],
   "source": [
    "mal_df.rename(columns={'Name' : 'name'}, inplace=True)\n",
    "info = info.merge(mal_df, on= 'name')"
   ]
  },
  {
   "cell_type": "code",
   "execution_count": 9,
   "metadata": {},
   "outputs": [
    {
     "data": {
      "text/plain": [
       "Index(['anime_ids', 'name', 'genre', 'type', 'episodes', 'rating', 'members',\n",
       "       'MAL_ID_x', 'Score_x', 'Genres_x', 'English name_x', 'Japanese name_x',\n",
       "       'Type_x', 'Episodes_x', 'Aired_x', 'Premiered_x', 'Producers_x',\n",
       "       'Licensors_x', 'Studios_x', 'Source_x', 'Duration_x', 'Rating_x',\n",
       "       'Ranked_x', 'Popularity_x', 'Members_x', 'Favorites_x', 'Watching_x',\n",
       "       'Completed_x', 'On-Hold_x', 'Dropped_x', 'Plan to Watch_x',\n",
       "       'Score-10_x', 'Score-9_x', 'Score-8_x', 'Score-7_x', 'Score-6_x',\n",
       "       'Score-5_x', 'Score-4_x', 'Score-3_x', 'Score-2_x', 'Score-1_x',\n",
       "       'MAL_ID_y', 'Score_y', 'Genres_y', 'English name_y', 'Japanese name_y',\n",
       "       'Type_y', 'Episodes_y', 'Aired_y', 'Premiered_y', 'Producers_y',\n",
       "       'Licensors_y', 'Studios_y', 'Source_y', 'Duration_y', 'Rating_y',\n",
       "       'Ranked_y', 'Popularity_y', 'Members_y', 'Favorites_y', 'Watching_y',\n",
       "       'Completed_y', 'On-Hold_y', 'Dropped_y', 'Plan to Watch_y',\n",
       "       'Score-10_y', 'Score-9_y', 'Score-8_y', 'Score-7_y', 'Score-6_y',\n",
       "       'Score-5_y', 'Score-4_y', 'Score-3_y', 'Score-2_y', 'Score-1_y'],\n",
       "      dtype='object')"
      ]
     },
     "execution_count": 9,
     "metadata": {},
     "output_type": "execute_result"
    }
   ],
   "source": [
    "info.columns"
   ]
  },
  {
   "cell_type": "code",
   "execution_count": 13,
   "metadata": {},
   "outputs": [
    {
     "ename": "KeyError",
     "evalue": "\"['MAIL_ID'] not in index\"",
     "output_type": "error",
     "traceback": [
      "\u001b[1;31m---------------------------------------------------------------------------\u001b[0m",
      "\u001b[1;31mKeyError\u001b[0m                                  Traceback (most recent call last)",
      "Cell \u001b[1;32mIn[13], line 1\u001b[0m\n\u001b[1;32m----> 1\u001b[0m info \u001b[38;5;241m=\u001b[39m \u001b[43minfo\u001b[49m\u001b[43m[\u001b[49m\u001b[43m[\u001b[49m\u001b[38;5;124;43m'\u001b[39;49m\u001b[38;5;124;43manime_ids\u001b[39;49m\u001b[38;5;124;43m'\u001b[39;49m\u001b[43m,\u001b[49m\u001b[43m \u001b[49m\u001b[38;5;124;43m'\u001b[39;49m\u001b[38;5;124;43mMAIL_ID\u001b[39;49m\u001b[38;5;124;43m'\u001b[39;49m\u001b[43m,\u001b[49m\u001b[43m \u001b[49m\u001b[38;5;124;43m'\u001b[39;49m\u001b[38;5;124;43mname\u001b[39;49m\u001b[38;5;124;43m'\u001b[39;49m\u001b[43m,\u001b[49m\u001b[43m \u001b[49m\u001b[38;5;124;43m'\u001b[39;49m\u001b[38;5;124;43mgenre\u001b[39;49m\u001b[38;5;124;43m'\u001b[39;49m\u001b[43m,\u001b[49m\u001b[43m \u001b[49m\u001b[38;5;124;43m'\u001b[39;49m\u001b[38;5;124;43mtype\u001b[39;49m\u001b[38;5;124;43m'\u001b[39;49m\u001b[43m,\u001b[49m\u001b[43m \u001b[49m\u001b[38;5;124;43m'\u001b[39;49m\u001b[38;5;124;43mepisodes\u001b[39;49m\u001b[38;5;124;43m'\u001b[39;49m\u001b[43m,\u001b[49m\u001b[43m \u001b[49m\u001b[38;5;124;43m'\u001b[39;49m\u001b[38;5;124;43mrating\u001b[39;49m\u001b[38;5;124;43m'\u001b[39;49m\u001b[43m,\u001b[49m\u001b[43m \u001b[49m\u001b[38;5;124;43m'\u001b[39;49m\u001b[38;5;124;43mmembers\u001b[39;49m\u001b[38;5;124;43m'\u001b[39;49m\u001b[43m]\u001b[49m\u001b[43m]\u001b[49m\n",
      "File \u001b[1;32m~\\AppData\\Local\\Packages\\PythonSoftwareFoundation.Python.3.11_qbz5n2kfra8p0\\LocalCache\\local-packages\\Python311\\site-packages\\pandas\\core\\frame.py:4096\u001b[0m, in \u001b[0;36mDataFrame.__getitem__\u001b[1;34m(self, key)\u001b[0m\n\u001b[0;32m   4094\u001b[0m     \u001b[38;5;28;01mif\u001b[39;00m is_iterator(key):\n\u001b[0;32m   4095\u001b[0m         key \u001b[38;5;241m=\u001b[39m \u001b[38;5;28mlist\u001b[39m(key)\n\u001b[1;32m-> 4096\u001b[0m     indexer \u001b[38;5;241m=\u001b[39m \u001b[38;5;28;43mself\u001b[39;49m\u001b[38;5;241;43m.\u001b[39;49m\u001b[43mcolumns\u001b[49m\u001b[38;5;241;43m.\u001b[39;49m\u001b[43m_get_indexer_strict\u001b[49m\u001b[43m(\u001b[49m\u001b[43mkey\u001b[49m\u001b[43m,\u001b[49m\u001b[43m \u001b[49m\u001b[38;5;124;43m\"\u001b[39;49m\u001b[38;5;124;43mcolumns\u001b[39;49m\u001b[38;5;124;43m\"\u001b[39;49m\u001b[43m)\u001b[49m[\u001b[38;5;241m1\u001b[39m]\n\u001b[0;32m   4098\u001b[0m \u001b[38;5;66;03m# take() does not accept boolean indexers\u001b[39;00m\n\u001b[0;32m   4099\u001b[0m \u001b[38;5;28;01mif\u001b[39;00m \u001b[38;5;28mgetattr\u001b[39m(indexer, \u001b[38;5;124m\"\u001b[39m\u001b[38;5;124mdtype\u001b[39m\u001b[38;5;124m\"\u001b[39m, \u001b[38;5;28;01mNone\u001b[39;00m) \u001b[38;5;241m==\u001b[39m \u001b[38;5;28mbool\u001b[39m:\n",
      "File \u001b[1;32m~\\AppData\\Local\\Packages\\PythonSoftwareFoundation.Python.3.11_qbz5n2kfra8p0\\LocalCache\\local-packages\\Python311\\site-packages\\pandas\\core\\indexes\\base.py:6200\u001b[0m, in \u001b[0;36mIndex._get_indexer_strict\u001b[1;34m(self, key, axis_name)\u001b[0m\n\u001b[0;32m   6197\u001b[0m \u001b[38;5;28;01melse\u001b[39;00m:\n\u001b[0;32m   6198\u001b[0m     keyarr, indexer, new_indexer \u001b[38;5;241m=\u001b[39m \u001b[38;5;28mself\u001b[39m\u001b[38;5;241m.\u001b[39m_reindex_non_unique(keyarr)\n\u001b[1;32m-> 6200\u001b[0m \u001b[38;5;28;43mself\u001b[39;49m\u001b[38;5;241;43m.\u001b[39;49m\u001b[43m_raise_if_missing\u001b[49m\u001b[43m(\u001b[49m\u001b[43mkeyarr\u001b[49m\u001b[43m,\u001b[49m\u001b[43m \u001b[49m\u001b[43mindexer\u001b[49m\u001b[43m,\u001b[49m\u001b[43m \u001b[49m\u001b[43maxis_name\u001b[49m\u001b[43m)\u001b[49m\n\u001b[0;32m   6202\u001b[0m keyarr \u001b[38;5;241m=\u001b[39m \u001b[38;5;28mself\u001b[39m\u001b[38;5;241m.\u001b[39mtake(indexer)\n\u001b[0;32m   6203\u001b[0m \u001b[38;5;28;01mif\u001b[39;00m \u001b[38;5;28misinstance\u001b[39m(key, Index):\n\u001b[0;32m   6204\u001b[0m     \u001b[38;5;66;03m# GH 42790 - Preserve name from an Index\u001b[39;00m\n",
      "File \u001b[1;32m~\\AppData\\Local\\Packages\\PythonSoftwareFoundation.Python.3.11_qbz5n2kfra8p0\\LocalCache\\local-packages\\Python311\\site-packages\\pandas\\core\\indexes\\base.py:6252\u001b[0m, in \u001b[0;36mIndex._raise_if_missing\u001b[1;34m(self, key, indexer, axis_name)\u001b[0m\n\u001b[0;32m   6249\u001b[0m     \u001b[38;5;28;01mraise\u001b[39;00m \u001b[38;5;167;01mKeyError\u001b[39;00m(\u001b[38;5;124mf\u001b[39m\u001b[38;5;124m\"\u001b[39m\u001b[38;5;124mNone of [\u001b[39m\u001b[38;5;132;01m{\u001b[39;00mkey\u001b[38;5;132;01m}\u001b[39;00m\u001b[38;5;124m] are in the [\u001b[39m\u001b[38;5;132;01m{\u001b[39;00maxis_name\u001b[38;5;132;01m}\u001b[39;00m\u001b[38;5;124m]\u001b[39m\u001b[38;5;124m\"\u001b[39m)\n\u001b[0;32m   6251\u001b[0m not_found \u001b[38;5;241m=\u001b[39m \u001b[38;5;28mlist\u001b[39m(ensure_index(key)[missing_mask\u001b[38;5;241m.\u001b[39mnonzero()[\u001b[38;5;241m0\u001b[39m]]\u001b[38;5;241m.\u001b[39munique())\n\u001b[1;32m-> 6252\u001b[0m \u001b[38;5;28;01mraise\u001b[39;00m \u001b[38;5;167;01mKeyError\u001b[39;00m(\u001b[38;5;124mf\u001b[39m\u001b[38;5;124m\"\u001b[39m\u001b[38;5;132;01m{\u001b[39;00mnot_found\u001b[38;5;132;01m}\u001b[39;00m\u001b[38;5;124m not in index\u001b[39m\u001b[38;5;124m\"\u001b[39m)\n",
      "\u001b[1;31mKeyError\u001b[0m: \"['MAIL_ID'] not in index\""
     ]
    }
   ],
   "source": [
    "info = info[['anime_ids', 'MAIL_ID', 'name', 'genre', 'type', 'episodes', 'rating', 'members']]"
   ]
  },
  {
   "cell_type": "code",
   "execution_count": 9,
   "metadata": {},
   "outputs": [
    {
     "data": {
      "text/html": [
       "<div>\n",
       "<style scoped>\n",
       "    .dataframe tbody tr th:only-of-type {\n",
       "        vertical-align: middle;\n",
       "    }\n",
       "\n",
       "    .dataframe tbody tr th {\n",
       "        vertical-align: top;\n",
       "    }\n",
       "\n",
       "    .dataframe thead th {\n",
       "        text-align: right;\n",
       "    }\n",
       "</style>\n",
       "<table border=\"1\" class=\"dataframe\">\n",
       "  <thead>\n",
       "    <tr style=\"text-align: right;\">\n",
       "      <th></th>\n",
       "      <th>anime_ids</th>\n",
       "      <th>MAL_ID</th>\n",
       "      <th>name</th>\n",
       "      <th>genre</th>\n",
       "      <th>type</th>\n",
       "      <th>episodes</th>\n",
       "      <th>rating</th>\n",
       "      <th>members</th>\n",
       "    </tr>\n",
       "  </thead>\n",
       "  <tbody>\n",
       "    <tr>\n",
       "      <th>0</th>\n",
       "      <td>1723</td>\n",
       "      <td>32281</td>\n",
       "      <td>Kimi no Na wa.</td>\n",
       "      <td>Drama, Romance, School, Supernatural</td>\n",
       "      <td>Movie</td>\n",
       "      <td>1</td>\n",
       "      <td>9.37</td>\n",
       "      <td>200630</td>\n",
       "    </tr>\n",
       "    <tr>\n",
       "      <th>1</th>\n",
       "      <td>82</td>\n",
       "      <td>5114</td>\n",
       "      <td>Fullmetal Alchemist: Brotherhood</td>\n",
       "      <td>Action, Adventure, Drama, Fantasy, Magic, Mili...</td>\n",
       "      <td>TV</td>\n",
       "      <td>64</td>\n",
       "      <td>9.26</td>\n",
       "      <td>793665</td>\n",
       "    </tr>\n",
       "    <tr>\n",
       "      <th>2</th>\n",
       "      <td>296</td>\n",
       "      <td>28977</td>\n",
       "      <td>Gintama°</td>\n",
       "      <td>Action, Comedy, Historical, Parody, Samurai, S...</td>\n",
       "      <td>TV</td>\n",
       "      <td>51</td>\n",
       "      <td>9.25</td>\n",
       "      <td>114262</td>\n",
       "    </tr>\n",
       "    <tr>\n",
       "      <th>3</th>\n",
       "      <td>127</td>\n",
       "      <td>9253</td>\n",
       "      <td>Steins;Gate</td>\n",
       "      <td>Sci-Fi, Thriller</td>\n",
       "      <td>TV</td>\n",
       "      <td>24</td>\n",
       "      <td>9.17</td>\n",
       "      <td>673572</td>\n",
       "    </tr>\n",
       "    <tr>\n",
       "      <th>4</th>\n",
       "      <td>405</td>\n",
       "      <td>11061</td>\n",
       "      <td>Hunter x Hunter (2011)</td>\n",
       "      <td>Action, Adventure, Shounen, Super Power</td>\n",
       "      <td>TV</td>\n",
       "      <td>148</td>\n",
       "      <td>9.13</td>\n",
       "      <td>425855</td>\n",
       "    </tr>\n",
       "  </tbody>\n",
       "</table>\n",
       "</div>"
      ],
      "text/plain": [
       "   anime_ids  MAL_ID                              name  \\\n",
       "0       1723   32281                    Kimi no Na wa.   \n",
       "1         82    5114  Fullmetal Alchemist: Brotherhood   \n",
       "2        296   28977                          Gintama°   \n",
       "3        127    9253                       Steins;Gate   \n",
       "4        405   11061            Hunter x Hunter (2011)   \n",
       "\n",
       "                                               genre   type  episodes  rating  \\\n",
       "0               Drama, Romance, School, Supernatural  Movie         1    9.37   \n",
       "1  Action, Adventure, Drama, Fantasy, Magic, Mili...     TV        64    9.26   \n",
       "2  Action, Comedy, Historical, Parody, Samurai, S...     TV        51    9.25   \n",
       "3                                   Sci-Fi, Thriller     TV        24    9.17   \n",
       "4            Action, Adventure, Shounen, Super Power     TV       148    9.13   \n",
       "\n",
       "   members  \n",
       "0   200630  \n",
       "1   793665  \n",
       "2   114262  \n",
       "3   673572  \n",
       "4   425855  "
      ]
     },
     "execution_count": 9,
     "metadata": {},
     "output_type": "execute_result"
    }
   ],
   "source": [
    "info.head()"
   ]
  },
  {
   "cell_type": "code",
   "execution_count": 10,
   "metadata": {},
   "outputs": [
    {
     "data": {
      "text/html": [
       "<div>\n",
       "<style scoped>\n",
       "    .dataframe tbody tr th:only-of-type {\n",
       "        vertical-align: middle;\n",
       "    }\n",
       "\n",
       "    .dataframe tbody tr th {\n",
       "        vertical-align: top;\n",
       "    }\n",
       "\n",
       "    .dataframe thead th {\n",
       "        text-align: right;\n",
       "    }\n",
       "</style>\n",
       "<table border=\"1\" class=\"dataframe\">\n",
       "  <thead>\n",
       "    <tr style=\"text-align: right;\">\n",
       "      <th></th>\n",
       "      <th>User_ID</th>\n",
       "      <th>Anime_ID</th>\n",
       "      <th>Feedback</th>\n",
       "    </tr>\n",
       "  </thead>\n",
       "  <tbody>\n",
       "    <tr>\n",
       "      <th>0</th>\n",
       "      <td>1</td>\n",
       "      <td>1</td>\n",
       "      <td>8</td>\n",
       "    </tr>\n",
       "    <tr>\n",
       "      <th>1</th>\n",
       "      <td>1</td>\n",
       "      <td>3</td>\n",
       "      <td>5</td>\n",
       "    </tr>\n",
       "    <tr>\n",
       "      <th>2</th>\n",
       "      <td>1</td>\n",
       "      <td>5</td>\n",
       "      <td>9</td>\n",
       "    </tr>\n",
       "    <tr>\n",
       "      <th>3</th>\n",
       "      <td>1</td>\n",
       "      <td>6</td>\n",
       "      <td>9</td>\n",
       "    </tr>\n",
       "    <tr>\n",
       "      <th>4</th>\n",
       "      <td>1</td>\n",
       "      <td>7</td>\n",
       "      <td>8</td>\n",
       "    </tr>\n",
       "  </tbody>\n",
       "</table>\n",
       "</div>"
      ],
      "text/plain": [
       "   User_ID  Anime_ID  Feedback\n",
       "0        1         1         8\n",
       "1        1         3         5\n",
       "2        1         5         9\n",
       "3        1         6         9\n",
       "4        1         7         8"
      ]
     },
     "execution_count": 10,
     "metadata": {},
     "output_type": "execute_result"
    }
   ],
   "source": [
    "rating.head()"
   ]
  },
  {
   "cell_type": "code",
   "execution_count": 11,
   "metadata": {},
   "outputs": [
    {
     "data": {
      "text/plain": [
       "User_ID     0\n",
       "Anime_ID    0\n",
       "Feedback    0\n",
       "dtype: int64"
      ]
     },
     "execution_count": 11,
     "metadata": {},
     "output_type": "execute_result"
    }
   ],
   "source": [
    "history.isna().sum()"
   ]
  },
  {
   "cell_type": "code",
   "execution_count": 12,
   "metadata": {},
   "outputs": [
    {
     "data": {
      "text/plain": [
       "anime_ids    0\n",
       "MAL_ID       0\n",
       "name         0\n",
       "genre        3\n",
       "type         0\n",
       "episodes     0\n",
       "rating       0\n",
       "members      0\n",
       "dtype: int64"
      ]
     },
     "execution_count": 12,
     "metadata": {},
     "output_type": "execute_result"
    }
   ],
   "source": [
    "info.isna().sum()"
   ]
  },
  {
   "cell_type": "code",
   "execution_count": 13,
   "metadata": {},
   "outputs": [
    {
     "data": {
      "text/html": [
       "<div>\n",
       "<style scoped>\n",
       "    .dataframe tbody tr th:only-of-type {\n",
       "        vertical-align: middle;\n",
       "    }\n",
       "\n",
       "    .dataframe tbody tr th {\n",
       "        vertical-align: top;\n",
       "    }\n",
       "\n",
       "    .dataframe thead th {\n",
       "        text-align: right;\n",
       "    }\n",
       "</style>\n",
       "<table border=\"1\" class=\"dataframe\">\n",
       "  <thead>\n",
       "    <tr style=\"text-align: right;\">\n",
       "      <th></th>\n",
       "      <th>anime_ids</th>\n",
       "      <th>MAL_ID</th>\n",
       "      <th>name</th>\n",
       "      <th>genre</th>\n",
       "      <th>type</th>\n",
       "      <th>episodes</th>\n",
       "      <th>rating</th>\n",
       "      <th>members</th>\n",
       "    </tr>\n",
       "  </thead>\n",
       "  <tbody>\n",
       "    <tr>\n",
       "      <th>2394</th>\n",
       "      <td>6292</td>\n",
       "      <td>33242</td>\n",
       "      <td>IS: Infinite Stratos 2 - Infinite Wedding</td>\n",
       "      <td>NaN</td>\n",
       "      <td>Special</td>\n",
       "      <td>1</td>\n",
       "      <td>7.15</td>\n",
       "      <td>6604</td>\n",
       "    </tr>\n",
       "    <tr>\n",
       "      <th>4649</th>\n",
       "      <td>5705</td>\n",
       "      <td>29765</td>\n",
       "      <td>Metropolis (2009)</td>\n",
       "      <td>NaN</td>\n",
       "      <td>Movie</td>\n",
       "      <td>1</td>\n",
       "      <td>6.27</td>\n",
       "      <td>313</td>\n",
       "    </tr>\n",
       "    <tr>\n",
       "      <th>5566</th>\n",
       "      <td>6757</td>\n",
       "      <td>28647</td>\n",
       "      <td>Kappo</td>\n",
       "      <td>NaN</td>\n",
       "      <td>Movie</td>\n",
       "      <td>1</td>\n",
       "      <td>4.71</td>\n",
       "      <td>335</td>\n",
       "    </tr>\n",
       "  </tbody>\n",
       "</table>\n",
       "</div>"
      ],
      "text/plain": [
       "      anime_ids  MAL_ID                                       name genre  \\\n",
       "2394       6292   33242  IS: Infinite Stratos 2 - Infinite Wedding   NaN   \n",
       "4649       5705   29765                          Metropolis (2009)   NaN   \n",
       "5566       6757   28647                                      Kappo   NaN   \n",
       "\n",
       "         type  episodes  rating  members  \n",
       "2394  Special         1    7.15     6604  \n",
       "4649    Movie         1    6.27      313  \n",
       "5566    Movie         1    4.71      335  "
      ]
     },
     "execution_count": 13,
     "metadata": {},
     "output_type": "execute_result"
    }
   ],
   "source": [
    "info[info.isna().any(axis=1)]"
   ]
  },
  {
   "cell_type": "code",
   "execution_count": 14,
   "metadata": {},
   "outputs": [
    {
     "data": {
      "text/plain": [
       "User_ID     0\n",
       "Anime_ID    0\n",
       "Feedback    0\n",
       "dtype: int64"
      ]
     },
     "execution_count": 14,
     "metadata": {},
     "output_type": "execute_result"
    }
   ],
   "source": [
    "rating.isna().sum()"
   ]
  },
  {
   "cell_type": "code",
   "execution_count": 15,
   "metadata": {},
   "outputs": [
    {
     "data": {
      "text/plain": [
       "0"
      ]
     },
     "execution_count": 15,
     "metadata": {},
     "output_type": "execute_result"
    }
   ],
   "source": [
    "history.duplicated().sum()"
   ]
  },
  {
   "cell_type": "code",
   "execution_count": 16,
   "metadata": {},
   "outputs": [
    {
     "data": {
      "text/plain": [
       "0"
      ]
     },
     "execution_count": 16,
     "metadata": {},
     "output_type": "execute_result"
    }
   ],
   "source": [
    "info.duplicated().sum()"
   ]
  },
  {
   "cell_type": "code",
   "execution_count": 17,
   "metadata": {},
   "outputs": [
    {
     "data": {
      "text/plain": [
       "0"
      ]
     },
     "execution_count": 17,
     "metadata": {},
     "output_type": "execute_result"
    }
   ],
   "source": [
    "rating.duplicated().sum()"
   ]
  },
  {
   "cell_type": "markdown",
   "metadata": {},
   "source": [
    "## Popular Animes"
   ]
  },
  {
   "cell_type": "code",
   "execution_count": 18,
   "metadata": {},
   "outputs": [],
   "source": [
    "popular_df = info[info['rating'] > 8].sort_values('members', ascending=False).reset_index(drop=True)"
   ]
  },
  {
   "cell_type": "code",
   "execution_count": 19,
   "metadata": {},
   "outputs": [
    {
     "data": {
      "text/html": [
       "<div>\n",
       "<style scoped>\n",
       "    .dataframe tbody tr th:only-of-type {\n",
       "        vertical-align: middle;\n",
       "    }\n",
       "\n",
       "    .dataframe tbody tr th {\n",
       "        vertical-align: top;\n",
       "    }\n",
       "\n",
       "    .dataframe thead th {\n",
       "        text-align: right;\n",
       "    }\n",
       "</style>\n",
       "<table border=\"1\" class=\"dataframe\">\n",
       "  <thead>\n",
       "    <tr style=\"text-align: right;\">\n",
       "      <th></th>\n",
       "      <th>anime_ids</th>\n",
       "      <th>MAL_ID</th>\n",
       "      <th>name</th>\n",
       "      <th>genre</th>\n",
       "      <th>type</th>\n",
       "      <th>episodes</th>\n",
       "      <th>rating</th>\n",
       "      <th>members</th>\n",
       "    </tr>\n",
       "  </thead>\n",
       "  <tbody>\n",
       "    <tr>\n",
       "      <th>0</th>\n",
       "      <td>6</td>\n",
       "      <td>1535</td>\n",
       "      <td>Death Note</td>\n",
       "      <td>Mystery, Police, Psychological, Supernatural, ...</td>\n",
       "      <td>TV</td>\n",
       "      <td>37</td>\n",
       "      <td>8.71</td>\n",
       "      <td>1013917</td>\n",
       "    </tr>\n",
       "    <tr>\n",
       "      <th>1</th>\n",
       "      <td>202</td>\n",
       "      <td>16498</td>\n",
       "      <td>Shingeki no Kyojin</td>\n",
       "      <td>Action, Drama, Fantasy, Shounen, Super Power</td>\n",
       "      <td>TV</td>\n",
       "      <td>25</td>\n",
       "      <td>8.54</td>\n",
       "      <td>896229</td>\n",
       "    </tr>\n",
       "    <tr>\n",
       "      <th>2</th>\n",
       "      <td>82</td>\n",
       "      <td>5114</td>\n",
       "      <td>Fullmetal Alchemist: Brotherhood</td>\n",
       "      <td>Action, Adventure, Drama, Fantasy, Magic, Mili...</td>\n",
       "      <td>TV</td>\n",
       "      <td>64</td>\n",
       "      <td>9.26</td>\n",
       "      <td>793665</td>\n",
       "    </tr>\n",
       "    <tr>\n",
       "      <th>3</th>\n",
       "      <td>9</td>\n",
       "      <td>6547</td>\n",
       "      <td>Angel Beats!</td>\n",
       "      <td>Action, Comedy, Drama, School, Supernatural</td>\n",
       "      <td>TV</td>\n",
       "      <td>13</td>\n",
       "      <td>8.39</td>\n",
       "      <td>717796</td>\n",
       "    </tr>\n",
       "    <tr>\n",
       "      <th>4</th>\n",
       "      <td>49</td>\n",
       "      <td>1575</td>\n",
       "      <td>Code Geass: Hangyaku no Lelouch</td>\n",
       "      <td>Action, Mecha, Military, School, Sci-Fi, Super...</td>\n",
       "      <td>TV</td>\n",
       "      <td>25</td>\n",
       "      <td>8.83</td>\n",
       "      <td>715151</td>\n",
       "    </tr>\n",
       "    <tr>\n",
       "      <th>...</th>\n",
       "      <td>...</td>\n",
       "      <td>...</td>\n",
       "      <td>...</td>\n",
       "      <td>...</td>\n",
       "      <td>...</td>\n",
       "      <td>...</td>\n",
       "      <td>...</td>\n",
       "      <td>...</td>\n",
       "    </tr>\n",
       "    <tr>\n",
       "      <th>448</th>\n",
       "      <td>6013</td>\n",
       "      <td>2618</td>\n",
       "      <td>Takarajima</td>\n",
       "      <td>Adventure, Drama, Historical, Mystery</td>\n",
       "      <td>TV</td>\n",
       "      <td>26</td>\n",
       "      <td>8.04</td>\n",
       "      <td>5306</td>\n",
       "    </tr>\n",
       "    <tr>\n",
       "      <th>449</th>\n",
       "      <td>2931</td>\n",
       "      <td>2762</td>\n",
       "      <td>Igano Kabamaru</td>\n",
       "      <td>Adventure, Comedy, Romance, Shounen</td>\n",
       "      <td>TV</td>\n",
       "      <td>24</td>\n",
       "      <td>8.13</td>\n",
       "      <td>5063</td>\n",
       "    </tr>\n",
       "    <tr>\n",
       "      <th>450</th>\n",
       "      <td>3564</td>\n",
       "      <td>1382</td>\n",
       "      <td>Yuusha-Ou GaoGaiGar Final</td>\n",
       "      <td>Adventure, Drama, Mecha, Sci-Fi, Shounen</td>\n",
       "      <td>OVA</td>\n",
       "      <td>8</td>\n",
       "      <td>8.25</td>\n",
       "      <td>5001</td>\n",
       "    </tr>\n",
       "    <tr>\n",
       "      <th>451</th>\n",
       "      <td>5342</td>\n",
       "      <td>6582</td>\n",
       "      <td>Tentai Senshi Sunred 2nd Season</td>\n",
       "      <td>Comedy, Parody, Seinen, Super Power</td>\n",
       "      <td>TV</td>\n",
       "      <td>26</td>\n",
       "      <td>8.07</td>\n",
       "      <td>4584</td>\n",
       "    </tr>\n",
       "    <tr>\n",
       "      <th>452</th>\n",
       "      <td>5811</td>\n",
       "      <td>29831</td>\n",
       "      <td>Tamayura: Sotsugyou Shashin Part 4 - Ashita</td>\n",
       "      <td>Comedy, Drama, Slice of Life</td>\n",
       "      <td>Movie</td>\n",
       "      <td>1</td>\n",
       "      <td>8.10</td>\n",
       "      <td>3187</td>\n",
       "    </tr>\n",
       "  </tbody>\n",
       "</table>\n",
       "<p>453 rows × 8 columns</p>\n",
       "</div>"
      ],
      "text/plain": [
       "     anime_ids  MAL_ID                                         name  \\\n",
       "0            6    1535                                   Death Note   \n",
       "1          202   16498                           Shingeki no Kyojin   \n",
       "2           82    5114             Fullmetal Alchemist: Brotherhood   \n",
       "3            9    6547                                 Angel Beats!   \n",
       "4           49    1575              Code Geass: Hangyaku no Lelouch   \n",
       "..         ...     ...                                          ...   \n",
       "448       6013    2618                                   Takarajima   \n",
       "449       2931    2762                               Igano Kabamaru   \n",
       "450       3564    1382                    Yuusha-Ou GaoGaiGar Final   \n",
       "451       5342    6582              Tentai Senshi Sunred 2nd Season   \n",
       "452       5811   29831  Tamayura: Sotsugyou Shashin Part 4 - Ashita   \n",
       "\n",
       "                                                 genre   type  episodes  \\\n",
       "0    Mystery, Police, Psychological, Supernatural, ...     TV        37   \n",
       "1         Action, Drama, Fantasy, Shounen, Super Power     TV        25   \n",
       "2    Action, Adventure, Drama, Fantasy, Magic, Mili...     TV        64   \n",
       "3          Action, Comedy, Drama, School, Supernatural     TV        13   \n",
       "4    Action, Mecha, Military, School, Sci-Fi, Super...     TV        25   \n",
       "..                                                 ...    ...       ...   \n",
       "448              Adventure, Drama, Historical, Mystery     TV        26   \n",
       "449                Adventure, Comedy, Romance, Shounen     TV        24   \n",
       "450           Adventure, Drama, Mecha, Sci-Fi, Shounen    OVA         8   \n",
       "451                Comedy, Parody, Seinen, Super Power     TV        26   \n",
       "452                       Comedy, Drama, Slice of Life  Movie         1   \n",
       "\n",
       "     rating  members  \n",
       "0      8.71  1013917  \n",
       "1      8.54   896229  \n",
       "2      9.26   793665  \n",
       "3      8.39   717796  \n",
       "4      8.83   715151  \n",
       "..      ...      ...  \n",
       "448    8.04     5306  \n",
       "449    8.13     5063  \n",
       "450    8.25     5001  \n",
       "451    8.07     4584  \n",
       "452    8.10     3187  \n",
       "\n",
       "[453 rows x 8 columns]"
      ]
     },
     "execution_count": 19,
     "metadata": {},
     "output_type": "execute_result"
    }
   ],
   "source": [
    "popular_df"
   ]
  },
  {
   "cell_type": "code",
   "execution_count": 20,
   "metadata": {},
   "outputs": [],
   "source": [
    "import pickle\n",
    "pickle.dump(popular_df,open('popular_df.pkl','wb'))"
   ]
  },
  {
   "cell_type": "markdown",
   "metadata": {},
   "source": [
    "## Content Based Filtering"
   ]
  },
  {
   "cell_type": "code",
   "execution_count": 21,
   "metadata": {},
   "outputs": [
    {
     "data": {
      "text/html": [
       "<div>\n",
       "<style scoped>\n",
       "    .dataframe tbody tr th:only-of-type {\n",
       "        vertical-align: middle;\n",
       "    }\n",
       "\n",
       "    .dataframe tbody tr th {\n",
       "        vertical-align: top;\n",
       "    }\n",
       "\n",
       "    .dataframe thead th {\n",
       "        text-align: right;\n",
       "    }\n",
       "</style>\n",
       "<table border=\"1\" class=\"dataframe\">\n",
       "  <thead>\n",
       "    <tr style=\"text-align: right;\">\n",
       "      <th></th>\n",
       "      <th>anime_ids</th>\n",
       "      <th>MAL_ID</th>\n",
       "      <th>name</th>\n",
       "      <th>genre</th>\n",
       "      <th>type</th>\n",
       "      <th>episodes</th>\n",
       "      <th>rating</th>\n",
       "      <th>members</th>\n",
       "    </tr>\n",
       "  </thead>\n",
       "  <tbody>\n",
       "    <tr>\n",
       "      <th>0</th>\n",
       "      <td>1723</td>\n",
       "      <td>32281</td>\n",
       "      <td>Kimi no Na wa.</td>\n",
       "      <td>Drama, Romance, School, Supernatural</td>\n",
       "      <td>Movie</td>\n",
       "      <td>1</td>\n",
       "      <td>9.37</td>\n",
       "      <td>200630</td>\n",
       "    </tr>\n",
       "    <tr>\n",
       "      <th>1</th>\n",
       "      <td>82</td>\n",
       "      <td>5114</td>\n",
       "      <td>Fullmetal Alchemist: Brotherhood</td>\n",
       "      <td>Action, Adventure, Drama, Fantasy, Magic, Mili...</td>\n",
       "      <td>TV</td>\n",
       "      <td>64</td>\n",
       "      <td>9.26</td>\n",
       "      <td>793665</td>\n",
       "    </tr>\n",
       "    <tr>\n",
       "      <th>2</th>\n",
       "      <td>296</td>\n",
       "      <td>28977</td>\n",
       "      <td>Gintama°</td>\n",
       "      <td>Action, Comedy, Historical, Parody, Samurai, S...</td>\n",
       "      <td>TV</td>\n",
       "      <td>51</td>\n",
       "      <td>9.25</td>\n",
       "      <td>114262</td>\n",
       "    </tr>\n",
       "    <tr>\n",
       "      <th>3</th>\n",
       "      <td>127</td>\n",
       "      <td>9253</td>\n",
       "      <td>Steins;Gate</td>\n",
       "      <td>Sci-Fi, Thriller</td>\n",
       "      <td>TV</td>\n",
       "      <td>24</td>\n",
       "      <td>9.17</td>\n",
       "      <td>673572</td>\n",
       "    </tr>\n",
       "    <tr>\n",
       "      <th>4</th>\n",
       "      <td>405</td>\n",
       "      <td>11061</td>\n",
       "      <td>Hunter x Hunter (2011)</td>\n",
       "      <td>Action, Adventure, Shounen, Super Power</td>\n",
       "      <td>TV</td>\n",
       "      <td>148</td>\n",
       "      <td>9.13</td>\n",
       "      <td>425855</td>\n",
       "    </tr>\n",
       "  </tbody>\n",
       "</table>\n",
       "</div>"
      ],
      "text/plain": [
       "   anime_ids  MAL_ID                              name  \\\n",
       "0       1723   32281                    Kimi no Na wa.   \n",
       "1         82    5114  Fullmetal Alchemist: Brotherhood   \n",
       "2        296   28977                          Gintama°   \n",
       "3        127    9253                       Steins;Gate   \n",
       "4        405   11061            Hunter x Hunter (2011)   \n",
       "\n",
       "                                               genre   type  episodes  rating  \\\n",
       "0               Drama, Romance, School, Supernatural  Movie         1    9.37   \n",
       "1  Action, Adventure, Drama, Fantasy, Magic, Mili...     TV        64    9.26   \n",
       "2  Action, Comedy, Historical, Parody, Samurai, S...     TV        51    9.25   \n",
       "3                                   Sci-Fi, Thriller     TV        24    9.17   \n",
       "4            Action, Adventure, Shounen, Super Power     TV       148    9.13   \n",
       "\n",
       "   members  \n",
       "0   200630  \n",
       "1   793665  \n",
       "2   114262  \n",
       "3   673572  \n",
       "4   425855  "
      ]
     },
     "execution_count": 21,
     "metadata": {},
     "output_type": "execute_result"
    }
   ],
   "source": [
    "info.head()"
   ]
  },
  {
   "cell_type": "code",
   "execution_count": 22,
   "metadata": {},
   "outputs": [
    {
     "data": {
      "text/plain": [
       "0                    Drama  Romance  School  Supernatural\n",
       "1       Action  Adventure  Drama  Fantasy  Magic  Mili...\n",
       "2       Action  Comedy  Historical  Parody  Samurai  S...\n",
       "3                                        Sci-Fi  Thriller\n",
       "4                 Action  Adventure  Shounen  Super Power\n",
       "                              ...                        \n",
       "6622                                               Hentai\n",
       "6623                                       Hentai  Sports\n",
       "6624                                               Hentai\n",
       "6625                                               Hentai\n",
       "6626                                               Hentai\n",
       "Name: genre, Length: 6627, dtype: object"
      ]
     },
     "execution_count": 22,
     "metadata": {},
     "output_type": "execute_result"
    }
   ],
   "source": [
    "info['genre'].astype('str').apply(lambda x: x.replace(',', ' '))"
   ]
  },
  {
   "cell_type": "code",
   "execution_count": 23,
   "metadata": {},
   "outputs": [
    {
     "data": {
      "text/plain": [
       "0       Kimi no Na wa. Drama  Romance  School  Superna...\n",
       "1       Fullmetal Alchemist: Brotherhood Action  Adven...\n",
       "2       Gintama° Action  Comedy  Historical  Parody  S...\n",
       "3                      Steins;Gate Sci-Fi  Thriller TV 24\n",
       "4       Hunter x Hunter (2011) Action  Adventure  Shou...\n",
       "                              ...                        \n",
       "6622                       Mini Skirt Gakuen Hentai OVA 1\n",
       "6623                    Offside Girl Hentai  Sports OVA 2\n",
       "6624            Joshidai: Ecchi Soudanshitsu Hentai OVA 1\n",
       "6625                            Tsui no Sora Hentai OVA 1\n",
       "6626                 Hokenshitsu de Aimashou Hentai OVA 1\n",
       "Length: 6627, dtype: object"
      ]
     },
     "execution_count": 23,
     "metadata": {},
     "output_type": "execute_result"
    }
   ],
   "source": [
    "tags = info['name'] + ' ' + info['genre'].astype('str').apply(lambda x: x.replace(',', ' ')) + ' ' + info['type'] + ' ' + info['episodes'].astype('str')\n",
    "tags"
   ]
  },
  {
   "cell_type": "code",
   "execution_count": 24,
   "metadata": {},
   "outputs": [],
   "source": [
    "anime_df = info.drop(columns=['rating', 'episodes', 'members', 'genre', 'type'])"
   ]
  },
  {
   "cell_type": "code",
   "execution_count": 25,
   "metadata": {},
   "outputs": [],
   "source": [
    "anime_df['tags'] = tags"
   ]
  },
  {
   "cell_type": "code",
   "execution_count": 26,
   "metadata": {},
   "outputs": [
    {
     "data": {
      "text/html": [
       "<div>\n",
       "<style scoped>\n",
       "    .dataframe tbody tr th:only-of-type {\n",
       "        vertical-align: middle;\n",
       "    }\n",
       "\n",
       "    .dataframe tbody tr th {\n",
       "        vertical-align: top;\n",
       "    }\n",
       "\n",
       "    .dataframe thead th {\n",
       "        text-align: right;\n",
       "    }\n",
       "</style>\n",
       "<table border=\"1\" class=\"dataframe\">\n",
       "  <thead>\n",
       "    <tr style=\"text-align: right;\">\n",
       "      <th></th>\n",
       "      <th>anime_ids</th>\n",
       "      <th>MAL_ID</th>\n",
       "      <th>name</th>\n",
       "      <th>tags</th>\n",
       "    </tr>\n",
       "  </thead>\n",
       "  <tbody>\n",
       "    <tr>\n",
       "      <th>0</th>\n",
       "      <td>1723</td>\n",
       "      <td>32281</td>\n",
       "      <td>Kimi no Na wa.</td>\n",
       "      <td>Kimi no Na wa. Drama  Romance  School  Superna...</td>\n",
       "    </tr>\n",
       "    <tr>\n",
       "      <th>1</th>\n",
       "      <td>82</td>\n",
       "      <td>5114</td>\n",
       "      <td>Fullmetal Alchemist: Brotherhood</td>\n",
       "      <td>Fullmetal Alchemist: Brotherhood Action  Adven...</td>\n",
       "    </tr>\n",
       "    <tr>\n",
       "      <th>2</th>\n",
       "      <td>296</td>\n",
       "      <td>28977</td>\n",
       "      <td>Gintama°</td>\n",
       "      <td>Gintama° Action  Comedy  Historical  Parody  S...</td>\n",
       "    </tr>\n",
       "    <tr>\n",
       "      <th>3</th>\n",
       "      <td>127</td>\n",
       "      <td>9253</td>\n",
       "      <td>Steins;Gate</td>\n",
       "      <td>Steins;Gate Sci-Fi  Thriller TV 24</td>\n",
       "    </tr>\n",
       "    <tr>\n",
       "      <th>4</th>\n",
       "      <td>405</td>\n",
       "      <td>11061</td>\n",
       "      <td>Hunter x Hunter (2011)</td>\n",
       "      <td>Hunter x Hunter (2011) Action  Adventure  Shou...</td>\n",
       "    </tr>\n",
       "  </tbody>\n",
       "</table>\n",
       "</div>"
      ],
      "text/plain": [
       "   anime_ids  MAL_ID                              name  \\\n",
       "0       1723   32281                    Kimi no Na wa.   \n",
       "1         82    5114  Fullmetal Alchemist: Brotherhood   \n",
       "2        296   28977                          Gintama°   \n",
       "3        127    9253                       Steins;Gate   \n",
       "4        405   11061            Hunter x Hunter (2011)   \n",
       "\n",
       "                                                tags  \n",
       "0  Kimi no Na wa. Drama  Romance  School  Superna...  \n",
       "1  Fullmetal Alchemist: Brotherhood Action  Adven...  \n",
       "2  Gintama° Action  Comedy  Historical  Parody  S...  \n",
       "3                 Steins;Gate Sci-Fi  Thriller TV 24  \n",
       "4  Hunter x Hunter (2011) Action  Adventure  Shou...  "
      ]
     },
     "execution_count": 26,
     "metadata": {},
     "output_type": "execute_result"
    }
   ],
   "source": [
    "anime_df.head()"
   ]
  },
  {
   "cell_type": "code",
   "execution_count": 27,
   "metadata": {},
   "outputs": [
    {
     "data": {
      "text/plain": [
       "(6627, 4)"
      ]
     },
     "execution_count": 27,
     "metadata": {},
     "output_type": "execute_result"
    }
   ],
   "source": [
    "anime_df.shape"
   ]
  },
  {
   "cell_type": "code",
   "execution_count": 28,
   "metadata": {},
   "outputs": [
    {
     "data": {
      "text/plain": [
       "anime_ids    0\n",
       "MAL_ID       0\n",
       "name         0\n",
       "tags         0\n",
       "dtype: int64"
      ]
     },
     "execution_count": 28,
     "metadata": {},
     "output_type": "execute_result"
    }
   ],
   "source": [
    "anime_df.isna().sum()"
   ]
  },
  {
   "cell_type": "code",
   "execution_count": 29,
   "metadata": {},
   "outputs": [],
   "source": [
    "# pip install nltk"
   ]
  },
  {
   "cell_type": "code",
   "execution_count": 1,
   "metadata": {},
   "outputs": [],
   "source": [
    "from nltk.stem.porter import PorterStemmer\n",
    "ps = PorterStemmer()"
   ]
  },
  {
   "cell_type": "code",
   "execution_count": 5,
   "metadata": {},
   "outputs": [
    {
     "name": "stdout",
     "output_type": "stream",
     "text": [
      "run\n",
      "run\n",
      "run\n"
     ]
    }
   ],
   "source": [
    "for i in ['running', 'runs', 'run']:\n",
    "    print((ps.stem(i))) # output run, run, run"
   ]
  },
  {
   "cell_type": "code",
   "execution_count": 31,
   "metadata": {},
   "outputs": [],
   "source": [
    "def stem(text):\n",
    "    y = []\n",
    "    for i in text.split():\n",
    "        y.append(ps.stem(i))\n",
    "    return ' '.join(y)"
   ]
  },
  {
   "cell_type": "code",
   "execution_count": 32,
   "metadata": {},
   "outputs": [],
   "source": [
    "anime_df['tags'] = anime_df['tags'].apply(stem)"
   ]
  },
  {
   "cell_type": "code",
   "execution_count": 33,
   "metadata": {},
   "outputs": [],
   "source": [
    "from sklearn.feature_extraction.text import CountVectorizer\n",
    "cv = CountVectorizer(max_features=5000,stop_words='english')"
   ]
  },
  {
   "cell_type": "code",
   "execution_count": 34,
   "metadata": {},
   "outputs": [
    {
     "data": {
      "text/plain": [
       "array([[0, 0, 0, ..., 0, 0, 0],\n",
       "       [0, 0, 0, ..., 0, 0, 0],\n",
       "       [0, 0, 0, ..., 0, 0, 0],\n",
       "       ...,\n",
       "       [0, 0, 0, ..., 0, 0, 0],\n",
       "       [0, 0, 0, ..., 0, 0, 0],\n",
       "       [0, 0, 0, ..., 0, 0, 0]], dtype=int64)"
      ]
     },
     "execution_count": 34,
     "metadata": {},
     "output_type": "execute_result"
    }
   ],
   "source": [
    "vector = cv.fit_transform(anime_df['tags']).toarray()\n",
    "vector"
   ]
  },
  {
   "cell_type": "code",
   "execution_count": 35,
   "metadata": {},
   "outputs": [
    {
     "name": "stdout",
     "output_type": "stream",
     "text": [
      "00 0083 009 01 02 03 04 05 06 07 08 08th 09 10 100 1000 101 102 103 104 105 109 11 112 114 11ey 12 13 14 142 15 153 16 17 18 19 1979 1980 1988 1989 1996 1997 1999 1st 20 2000 2001 2002 2003 2005 2006 2007 2009 2010 2011 2012 2013 2014 2015 21 2199 22 23 24 25 25th 26 27 28 29 296 2d 2nd 2wei 30 31 32 33 34 35 36 365 37 38 39 3d 3rd 40 41 42 43 44 45 46 47 48 49 4d 4th 50 51 52 53 54 56 575 58 59 60 61 62 63 64 65 66 69 72 73 74 75 76 77 78 80 86 88 91 96 97 99 999 _summer aa abyss academia academy accel accelerando acchi ace achiga action activ ad adeu advanc advent adventur adventure aegi aesthetica aetara afro agasa age agechaimasu agechau aggress aggressor ahiru ai aika aikatsu aimash air airi aji ajin ajisai akachan akag akagami akai akaki akam akaneiro akazukin akb0048 aket aki akihabara akikan akira akito akogar aku akuma akumu alabasta album alchemist aldnoah alexand alic alice alien aliv alon alp alpha altern alternative amaenaid amagami amagi amaz ame ami amnesia amon ana anata android ane aneki angel angeliqu angelique ani anim animation anime anitore aniyom ankoku ann anne anniversari anniversary ano anoth ansatsu anshin antholog ao aoharu aoi aoki aoshi aozora apocalyps applese aquarion ar aragoto arakawa arale arashi arata aratanaru arcadia arcana archiv area argento aria ariel arimasu ark armitag arms arpeggio arrow arslan art arterial aru arusu asa asagi asakura ashita asobi assistant astarott asterisk asu asura athletess atom atsuki atsumare atta attack auction aurora avant aveng axi ayakashi ayashi ayatsuri azazel azumanga babi baby babylon baccano bahamut baka bakabon bakemono bakemonogatari baki baku bakugan bakuhatsu bakuman bakumatsu bakunetsu bakunyuu bakuretsu bakuten ball ban bannou bara barbapapa bari basara basho basket battl battle bazooka beast beat beater beats beauti bebop beelzebub begin bell bem ben berserk best beyblad bi bianca bibl big bijin bikini binchou bio biohazard birdi birth birthday bishoujo biyori black blade blame blaze bleach blood bloodi blue blues bo boin bokan boku bokura bokusatsu bokutachi bomberman bondag book born boruto bouei bouken boukenki boukensha boukoku boukyaku bouryaku boushi box boy brain brave bravo brawlers break breath bride bridg brilliant bronze brother brotherhood bu bubblegum bubu buddha buddi build bukatsumono bukyou bullet bunka burai buriburi burn burst busou bust buster busters buta butlers buzzer bye byouin byoutou cafe calimero cam camp campanella campu canaan canari candi candy cantabil canva capo capriccio captain car card cardcaptor cardfight carniv carnival carrot casshern cat catastroph cation centuri cha chacha chaika chain challeng chan change channel chao chapter chara charact charat charg charlott charm chase cheer cherri chi chibi chicchana chichi chico chie chihayafuru chiisana chijoku chijou chika chikai chikan chikyuu children china chinkonka chobit choboraunyopomi chocol chopper chotto chou choujikuu choujin choujuu choujuushin choukou choukyou chousoku chouyaku christma chrno chronicl chronicle chu chuuniby ciao cinderella cipher circuit citi clamp clannad class classmat cleopatra climax clip clock clover club cluster cm cobra cocoa code coil coll collabor collect color come comedi comet comic compani complex comput conan concerto concret condor conflict connect cool cop corda core corps cosmo cosplay cospray countdown court cowboy craft crash crayon cream creami creator crescent crew cri crime crimson crisi crisis croisé cross crowd crown crusad crush crystal cup cutey cuti cyber cyborg c³ da daa dai daiakuji daibouken daicon daihyakka daiji daikaiju daikaijuu daikaisen daikassen daikatsuyaku daikei daikeng daikessen daikon daiku daikuu daikyuu daili daimajuu daimaky daimaou daimidal daimo daioh dairinin dairugg daisakusen daisens daishashin daishikkin daishizen daishougun daishuugou daisi daisougen daisousaku daisuk daisuki dait daitarn daitokuji daitoshi daitoshokan daitsuiseki daiundoukai daiyousai daizukan dakara dake dakishimet dakkan dallo daltania daman damasarenaid damashii damekko damnat dan danbal danc dance danchigai dancougar dandi dangaiou danganronpa dango dankichi danna danshi danshou dantalian danzai daphn dare dareka dark darker darl darou dash date datenshi dattebayo dawn day days dd dead deai dear death decode decolora deep dekinai dekkai delux dementia demo demon demonban den dengeki denji denki dennou denpa densetsu densha depth deshi destini destruct desu detect detroit devil devilman di diabolik diamond digimon digit dimens dirti disc disciplin disgaea distort dive diver diverg divid divin dj djibril dna dna² doamaig docchi dochinpira doco doctor document dodg dog doh doha doki dokidoki dokkaan dokkiri dokonj doku dokuhaku dokur dokuro dokusen dol doldrey doll dollar dolores doma dominion domo don donburi donna donten donyatsu door doori dora dorabian doraemon doraemons dorami dorapan dore dorei doreitachi doremi dori dorob dororon dotto dou doubl double doubutsu doubutsuen doubutsuki doudou douga douji doujin doukoku doukyuusei doumu doura doushi doushite dousou doutei douwa download dpr dr dracula dragon dragonar dragonaut dragonslay drama dramat dream dreamer dreamnot dress drifter drifters driv drive driver drop druaga dsa dt dual duel duell dufufufu dum dungeon dunk duo durant durarara dust dvd dx dx2 dx3 dxd dynam dynamit dyogrammaton dystopia déjà earli earth earthian eat eater ebenbourg ebichu ebisugawa ebiten ecchi eclips eco ecol ecstasi eden edg edit edo edogawa ef effect egao egg egomama ehon eichi eien eiga eightman eigi eigo eiken eikenbu eikoku eikou eikouden eikyuu ein einzbern eisai eiyuu eiyuuden eizou el elder elegi element elemi elena eleventh elf elfen elfi elfina ell ellcia elus elysion elysium emblem embrac embryo emeralda emi emili emma emon emono emot enai enban enbanseki enbi enbo enbu encor encount end enders endless endrid engag engetsu engi english enikki enishi enkinh enkou enma enmei enshou entenka enyoku enzai epic epilogu episod episode epoch era erabarezaru erementar ergo eri eriko erin ero eroero erog eroge erolut eromam es escaflown escalay esp esper esteban et etern eternia etotama etr etruria etsu etsuko etsuraku eunma euphonium euphoria eureka europ eva evangelion eve everlast everyth evoc evok evol evolut evolution evolv ex ex01 ex02 excel exodu exorcist experi extra eye eyeshield factor fade fafner fairi fake fall famiglia famiresu fan fantasi fantasia fantasista fantast fantasy farm fashion fatal fate fault feat feng festa festiv fi field fight fighter file film final finder firebal fish flag flander flash flashback fleet fli flutter fool footag forc force forest forev formula fort fortun frag free freedom freez fresh friends frontal frontier fukkatsu fuku fukubiki fukuin fullmet furikabutte furueru fury furyou fushich fushigi fushigiboshi futago futagohim futakoi futari futatsu futsuu futur fuuin fuujin fuuma fuyu fuyuyasumi ga gabl gag gai gaiden gakari gakki gakkou gakuen gakuin gakusen galaxi gall game gamer ganbar ganbare gangsta gantz gaogaigar garden gargantia gari garo gash gassen gasshuku gat gatchaman gate gattai gdgd gear geass gedou gegeg geist gekij gekitotsu gekitou gekkan gemini gen gender genei gener genesi geniu genji genki genma genmukan genroku genshi genshiken gensou gensoumaden geo gerad getsumen getter ghost ghoul gi giant gibo gift giga gin ginga gintama ginyuu girl girlfriend girls gj glass gloriou gochuumon god godannar gogo gogogo gohan gokinjo goku gokudou gokujo gokuraku gokuu gold golden golgo good gootaman goshujinsama gotoku gou gouka goulart gpx grade graffiti grand grander grappler gravion gray great greed green gregori grenadier grendiz grimm grisaia gt gu guard guardian gugure guilti guitar gumi gun gunbust gundam gunparad gunsling gunsou guren gurren guru guu guy guyver gyakkyou gyakushuu gyakuten hachi hachimitsu hachiy hack hacka hadan hadashi hade hagan hagur haha hai haikyuu haita haitoku haiyore haiyoru haja hajim hajimari hajimemashita hajimeru hajimet hakken hakkenden hako hakobun hakuch hakudaku hakuouki hakushaku hakusho ham hama hamatora hamelin hameraret hamtar hamtaro hamu hana hanabi hanabira hanamaru hanamichi hanasakeru hanasaku hanauky hanayaka hanayom hand handsom hane hangyaku haou happi happiness happy haramas hare harem harenchi harmoni haru haruhi haruka harukanaru hashi hashire hate hatsu hatsudou hatsukoi hatsun hayat hazard head heart heartcatch hearts heatguy heaven heidan heidi heiki heisa heisei hekketsuroku hell hello hells hen hensachi hensemi henshin hentai hero heroin heroman herz hetalia heya hi hiatari hibi hibike hidamari hidan hideyoshi higashi high highschool higurashi hihou hiiro hikari hikaru hikench hiki hikisakareshi hikuushi hima himawari hime himegimi himekishi himesama himitsu himouto hina hinako hinomaru hipira histor histori hit hitman hito hitomi hitonatsu hitori hitotos hitotsu hitou hitozuma hitsugi hitsujikai hiyokoi hohoemi hoka hoken hokuto hol holli hollywood holm holmes home hon honey hongniang honoo honpen honto hoopa hoozuki horizon horror hoshi hoshizora hot hotaru houkago houkou houou hour hourou hous houteishiki hoyoyo huckleberri hungri hunter hurrican huyao hyakka hyaku hyakujitsu hyakuninisshu hyouka hyouryuu hyouryuuki hyper ibuki ibun ice ichiban ichigeki ichigo ichinichi ichiya ichizoku ichizon iczer ideon idol idolm igloo ignit igpx ii iii ijou ika ike ikeike ikeni ikka ikkitousen ikkoku ikoku ikou iku ikusa il illya ima imagin imawa immor immort imouto inai inari inazuma inbou index infect inferno infinit initi injoku injuu inkou inma inmu innoc innocent inochi inran insight intermiss introduct inu inukami inuyasha inyoku inyouchuu ippai ippatsu ippo iri iro iroha iron iru isaku isekai isha ishi ishida island issho isshuu isshuukan issunboushi isuca ita itadaki itazura ite ito itoshi itsudatt itsuka itsumo itsuwari itteiru iu iukoto iv izumo ja jack jama japan jarinko jeeg jetter jewel jewelpet ji jidai jieitai jigen jigoku jijou jikan jiken jikenbo jikken jikuu jima jin jing jinrui jiru jk jo joe jogakuin jojo joker joou jormungand josei joshi joshik joshikousei joshiraku jr jugyou jump jun junai jungl junjou junk junketsu junki junpaku jutsu juube juubee juuden juugo juuni juunin juushi juusou ka kabuto kachou kaeru kaett kagai kagaku kagami kagayaki kagayaku kage kagewani kagi kago kagura kai kaibutsu kaichou kaidan kaidashi kaiji kaijuu kaiketsu kaiki kairaku kaisha kaitakushi kaitei kaito kaitou kaizoku kaizou kajitsu kakaru kakera kakero kakeru kaku kakumei kakumeiki kakur kakurenbo kakusei kakut kakyou kakyuusei kaleid kaleido kamen kami kamichu kamigami kamisama kamogawa kan kanan kanashimi kanata kanbu kanchou kangaetemo kangatari kangofu kangoku kanin kanketsu kannagi kanochi kanojo kanokon kanon kansen kantai kanzen kao kaori kappa kappi kara karakuri karasu kare karen kareshi kari karin karnev kart karu kashi kasukab katachi katei kateikyoushi katekyo katsu katsud katt kawa kawaii kawarazaki kaze kazoku ke keaton kedamono kedarug keeper kei keikaku keisatsu keitai keiyakusha kekkai kekkon kemono ken kenichi kenkaku kenkou kenpucho kenran kensetsu kenshin kenzen keroro kessen ketsu ketsui ketsuzoku ki kiba kibou kibougamin kick kickoff kid kidan kiddi kidou kids kigyou kihei kijo kikaid kikaku kikanjuu kiki kikinasai kikoeru kikou kikoushi kikoutai kill kimagur kimi kimyou kin kindaichi kindan king kingdom kininaru kiniro kinkyuu kinnikuman kino kintar kioku kira kirai kirakira kirameki kiri kisaku kiseki kisetsu kishi kishin kiss kissa kita kitan kitar kite kitti kiwami kizumonogatari kizuna kizutsukanai knight knights ko koakuma kobato kocchi kodai kodomo koe koi koibito koihim koihime koinaka koishiteru koisuru kojin kojirou kokkuri koko kokoro kokuhaku kokuin koma komet komori komugi konamaiki koneko konjiki konkon konna konnani konnichiwa kono kore koro korokoro koroshiya koto kotoura kouchou kouga kouhosei kouin kouji koukai koukou koukousei koumon kounai kourin kouritsu kouro koushi koushinry kousoku kousuk koutetsu kouya kouza kowai kowarekak kowaremono kratos kreuz kuchibiru kuchizuk kujaku kujibiki kujira kum kuma kumikyoku kumo kun kuni kunoichi kuragehime kurai kure kurenai kureta kuro kurogan kuroi kurokami kuroki kuroko kuromi kuroshitsuji kuru kurumi kuruneko kusabi kuuchuu kuukou kyojin kyokugen kyonyuu kyoto kyou kyoudai kyoudou kyoufu kyouhaku kyouiku kyoukai kyoukaisenj kyouryuu kyoushi kyoushir kyoushitsu kyoushoku kyoushuushitsu kyousou kyu kyun kyuu kyuuketsuhim kyuuketsuki kyuukyoku kämpfer la lab labyrinth lad ladi lagann lagoon lagrang lagrange lala lamp land late le legend lelouch lemon len lesson level leviathan liberti lieb life light lili lime line linebarrel liner ling lingeri link lite littl live loan locodol lodoss log lone lost love lovedol loveless lover lucky luffi lunat lupin luv lv lyric m3 maboroshi mach machi machigatteiru machine macross mada madan madoka mae maetel magi magic magica magical magikart magnific magnitud mago mahoromat mahou mahoutsukai mai maid maiden mainichi maiorita maison maizoukin majest maji majin majo majokko major majutsu majutsushi majuu makai maken maker maki maku makyou mama mameshiba mami mamir mamono mamore mamoru mamott man mana manatsu manga mangaka mangirl maniac manie manimani manner manyuu manyuuki mao maou mapl mar march mardock mari maria marin marina mario marionett market marmalad marshmallow martial maru maruko marutto mashimaro mashin mashiro mashou mask masou massugu master masuda matrix matsuri matteru mawaru max maya mayo mayoi mayonaka mayu maze mazing mazinkais md mecha medaka medarot meet megami megane meguri meguru mei meiji meikai meiken meikyuu mein meiou meiro meisaku meitantei mellow melodi melodies memori memoria memorial memories men menu mermaid merri meshimas messag mesu metal method metropoli mew mewtwo mezam mezase mezzo mi miboujin michi midara midnight midori mii mikagura mikakunin miko miku mile militari military milk milki million milo mimi mina minami mini minimum minki minna miracl miracle mirag mirai misaki miss mission mita mite miteru mito mitsu mitsubachi mitsudomo miya miyako miyu miyuki mizu mizuiro mk mm mo mobil mode moero moetan moeyo moke mokk mokushiroku moment momo momoiro momomo momon momotar mon mondai mondaiji money monkey mono monogatari monologu mononok monshou monster moon moonlight mori morita morn mosaic motenai mother motion motomeru motomet motto mou mouretsu mouri mouryou mousou movi movie moyako moyashimon mr ms mugen mugiwara mujin mujint muka mukou mukuchi mune munto mura murder mus musaigen musashi muscl musekinin musha mushi mushibugy mushishi mushrambo music musou musuko musum musume muteki muumin muv muyou mysteri mystery na naani nacchatta nachuyachumi nadeshiko nadesico nadia nagagutsu nagai nagareboshi nagato nai naisho naka nakama naki naku nama namida nan nana nanafushigi nanaka nanako nanami nanana nanatsu nani nanka nanod nanoha naoko nara narenakatta naritai naru naruto nasu natsu natsum natsuyasumi natta natur nazo ne nee neesan negai negima nejimaki neko nekogami nekojiru nen nendo nene nensei neo neon nera nerae nerawareta netorar new newscast nezumi ng ni nichij nichijou nichikan nichiyoubi nidaim nie night nihon niji nijiiro nikki nikuyoku nin ninden ningen ningyo ningyohim ningyou ninja ninpou nisei nisekoi nishi nite nobita noblesse nobunaga nochi nodam nogizaka nomi non nonet noragami norn norn9 noroi note nounai nova nozaki nozomu nube nurarihyon nurs nyan nyanko nyaruani nyaruko nyuujoku obak oban obenky object occult ocean ocham ochamegami ochiru ochita octob oda odemashi odin odor odore odoro odoru odyssey oe oedo offlin offline offsid og ogenki ogr ogui oh ohanami ohirom oid oinari oira oishii oita ojamajo ojiisan ojikan ojisan ojousama okaasan okaeri okan okasaret okashi okashiinda okawari okinawa okit okitegami okkiku okojo okonaeba okonomiyaki oku okurimono okusama olivia olymp oma omaera omak omakas omakase omamori oman omatas omatsuri omega omise omiyag omocha omoi omoid omoide omokag omotta ona onagusam onaka onara onboro ondo oneechan oneesan onegai ongaeshi ongaku ongakutai oni onigamiden onigiri oniichan oniisama oniisan onikirimaru onimusha onizuka onkyo onli onlin online onmyou onmyouji onna onnanoko onorok onsen onshi ontama ooabare ooi ookami ookamikakushi ooki ookii ookiku oomukashi oosawagi ooshoubu oounabara ooyasan open oper opera oppai ora oracl orang orange oraretara orc orchestra order ordian ore oreca orenchi oretachi orgel orgun orguss ori origin ornismon orochi orphan orphen orpheu oruchuban osaka osakana osamu osananajimi osaru oseam oshaberi oshaburi oshar oshiet oshiete oshigoto oshikak oshioki oshiri oshiruko osomatsu osoroshii osowatta ossu osu osuki otakara otakebe otaku otanjoubi otaryman otasukeman otenki otetsudai otogi otogisoushi otogizoushi otoko otokojuku otom otome otona otoshimono otouto otsu otsukai ou oudou ouen ouendan ougon oui ouja ouji oujo ouka oukoku oukoubakko ouma ouran ourin ouritsu ousama outbreak outcast outland outlaw outsid ouvertür ova oval overlord overman overrun overtur owaranai owarenai owari owarimonogatari owarinaki oyabun oyako oyobidenai oyome oz ozanari ozma ozmafia page pai paidol pailsen paint pair pairs paizuri pakopako paladin pale palm palutena pamyeol pan panchira panda pandan pandarian pandora pandra panic panikku paniponi pant panti panyo papa paper papillon paprika parad paradis paradise paradiso paradox paragon parallel parappa parasit pari paris park parodi parol parti parts party pass passion passo past patalliro patapata patema patrasch patrol patroltai paul pc peac peace peach pedal peep penguin penguindrum percent perfect perform perman peropero perrin person persona pes pet peter petit petopeto petshop peut phantasi phantasia phantasm phantasmagoria phantom phase phi phoenix photokano photon phrase pia pianist piano piccolino pichi pichu pico pictur pie piec piece pietrada pig pigeon pika pikachu pikka pikkoman pikmin pilot pink pinki pinocchio pinoko pirat pirates piroppo piruruku pistol pita pitch piyoko pj place planet planetarian planzet plastic platon plawr play ple pleas pleasur pleiad pleiades plu pocket poemii poirot pokaan pokemon pokkapoka polic pollon pollyanna poly polymar polyphonica pon ponpoko ponyo pope popolocroi popotan poriomania pornograph poroporo porphi portabl portrait possibl pot potecco potemayo pound pow power powerd powerpuff poyopoyo ppoi pr prayer precur precure premium present pretti preview previsit pride primaveil primo princ prince princess prism prisma prison privat prix pro profession program programm progress project prologu promis promo promot propos prototyp proxi prétear psych psychic psycho psycholog pucca puchimas puchitto pugyuru puka puls pumpkin pun punch puni punish punk pupa pupipo pure purely purezza purgatori purge puri purigorota purijioon purin purpl purupurun push pussycat puzzl pv pygmalio pyo pyonpyon pyramid pâtisseri pâtissièr pâtissière qi qian qiaokeli quad qualidea quantum quarter quartet queen quest quiet quiz quon qwaser r2 r20 ra rabbie rabug rac race rachiru radio ragnarok ragnastrik ragtim rahxephon rai raid raideen raifuku raigomaru raihousha raikou rail railgun railroad rain rainbow rainbowman raini raishuu raiyantsuuri raku rakudai rakuen rakugaki rakugo rakushou ralli rama ramayana ramen ran ranbu ranc rance random randoseru ranga ranger rankan rankou ranma rannyuuroku ranpo ranstar raoh rape rapeman rapper rara rasen rave raven ravens ray rayca rayearth rd rdg reach readi real realist realiz rean rebellion rebirth rebokku reborn rebuild rec recap receiv recit recollect reconguista record red redial redlin redo reflect refrain regalia regio rei reibai reideen reido reijoku reijou reijoutachi reiju reikai reikenzan reimeiroku rein reinou reirei reiteki reitetsu rejuven rekka relay relif reload rem rememb remi reminisc remix ren renai rendezv renka renketsu renkin renkyori renmei rennyuu rensa rental renza renzu reo repeat replay report reproduct requiem rescu resolut reson resort respect ressen restaur resurrect retro retsuden rettousei return returns reunion revel reveng revers review revolut revolutio rewrit reyon rezzle rg rhapsodi rhea rhythm ribbon ribon rid riddl riddle ride rideback rider riders right riki rikimaru rikishi rikka rikou rikuj rin ring ringetsu ringo rinkaku rinkan rinn rio rion riron riru risa rise ristorant risu ritsu rival rizelmin ro road roar robin robinson robo robonim robot robotica robotics rock rocket rocki rockman roger rokka roku rokub rokujouma rokujuus rokumon rokunin rokuon rolling roma romae romajin roman romanc romantan romantica romanz romeo rondo ronja roommat root rop rosario rose roshutsu roto rou roug roujin rouran royal rozen rs ru rukawa rumbl rumiko run rune ruriiro rurouni rurumo rush russia rusti rusuban ruter rv ryakudatsu ryo ryofuko ryohei ryojoku ryokan ryokou ryokunohara ryou ryoubun ryougyaku ryouiki ryoujoku ryouki ryouko ryoukou ryououki ryouran ryouriten ryoutei ryuko ryuu ryuugaj ryuuhougyoku ryuukenden ryuukitan ryuuko ryuukoku ryuuou ryuusei ryuuseiki ryviu rätsel s1 s2 s3 s4 s5 s6 sa saa sabakarechau sabaku saber sabo sacchuu sacla sacr sadamitsu sae saeba saenai saezuri saga sagas sagase sagashimono sagashit sagashite sai saiban saidai saigo saijaku saikai saiki saikin saiko saikou saikyou sailor saimin sainan saint saipuu saishuu saisoku saitan saitei saitou saiunkoku saiwai saiya saiyajin saiyo saiyuuki saji saka sakamichi sakasama sake sakebitagatterunda saki sakigake sakoku saku sakuhin sakunyuu sakura sakuragi sakurako sakusei sakusen sakuya salaryman salli sama samay samayoeru samia sammi samurai san sanada sanctuari sanctus sand sandai sandybel sang sango sangokuden sangokushi sanhaim sanii sanjou sanka sankanbi sankarea sankenshi sankichi sankyoudai sannin sanpei sanrio sansha sanshimai sanshir santa sanyou sanzen sanzenri sanzoku sara saraba saraiya saranghanda sareru sareta saru sarusuberi sarutobi sasameki sasami sasayaki sasuga sasuk sasurai satsuei satsueikai satsui satsujin sauzando saver savers sawagi sawyer sayaka sayonara sayuri sazanami scan2go scandal scare schick school schoolgirl schwarzesmarken sci scissor scoool score scorebook scrambl scramble scrap scream sd sea seal search season sebang second secondo secret sect seed seein seha sei seiai seibai seichi seido seieki seifuku seigi seihonn seihou seijin seijo seijun seijuu seijuuden seijuuki seikai seikatsu seiken seiki seikima seikimatsu seikishi seikoku seikon seikou seikoujo seima seimei seimeitai seinen seirei seiresetsu seirou seiryuu seisai seisaku seisen seishi seishou seishoujo seishounen seishun seisou seisyun seiteki seito seitokai seitokaich seitokaichou seiya seiyou seiyuu seiza seizoroi sekai sekaiichi seki sekiei sekiranun sekirei sekiryuu sekkaroku sekkou select selector self seme semen semi semishigure sen senden seneki sengen sengoku sengokushi senjou senkaiden senkan senketsu senki senkitan senkou senkyo sennen sennenki sennin sennou sennyo sennyuu senobisuru senran senritsu sens sensei sensen senshi senshuken senshuu sensit sensou sentai sentaich sentaku sentakushi sentakuya sentiment sento sentou senval senya senyuu sepia septem sera seraph seraphim serena serenad serg seri serial series servamp servant servic service sesshoku sesshoseki session seto seton setonai settai seupideuwang seven seventh seventi sex sexfriend sexi sexual seyo sf shabura shadow shahar shakai shakkin shaku shakugan shakunetsu shaman shamballa shameshrin shana shanghai shangri shanikusai shanshei sharp sharumu shasei shashin shashinkan shasou shell shelter shen sheng shenmue shi shiawas shiawasett shibai shibocchau shibori shibou shibushibu shichau shichi shichihenge shichinin shidou shigatsu shigofumi shigurui shihai shihaisha shiiba shiji shijou shikaban shikamamon shikatt shiken shiki shikkaku shikkari shikkoku shikkoubu shikon shima shimai shimaizuma shimanchu shimasen shimashita shimasu shimbun shimero shimizu shimoneta shin shina shinai shinano shinasai shinbashi shinbun shinden shindensh shine shinesman shingeki shingetsutan shini shinichi shinigami shinjiau shinjin shinjiteru shinjuku shinjuu shinkai shinki shinko shinkon shinkou shinkoukei shinku shinkyoku shinmai shino shinobu shinobuden shinonom shinpa shinpei shinpi shinrei shinryaku shinryakusha shinryou shinryounaika shinsatsushitsu shinsei shinseiki shinsekai shinsengumi shinshaku shinsho shinshou shinsou shintaisou shintar shinwa shinyaku shinzou shiofuki shion ship shippo shippuuden shirakawa shiranai shiranpuri shiras shirasagi shirayuki shirei shirenai shiritsu shiro shirobako shirogan shiroi shiroki shirokuma shirou shiroyasha shiru shirudaku shirushi shisen shisha shishi shisho shishunki shit shita shitai shitara shitcom shite shiteiru shitemita shito shitome shitou shitsuji shitteiru shiwanhuoji shiyo shiyokka shiyou shizuku sho shock shogun shojo shoka shokichi shokud shokugeki shokuinshitsu shokupan shokushin shokuzai shonan shoot shooter short shot shou shoubushi shoudou shougai shougaibutsu shougaku shougakusei shougeki shougekij shougun shouhoku shoujo shoukai shoukanjuu shoukougun shoukoujo shoukoushi shoulder shoumei shoumen shounen shousetsu shousha shoushin shoushitsu shoutai shoutengai shoutotsu shouwa shouzou shuffle shugo shugogetten shugyou shujii shukufuku shukumei shukuteki shun shunin shunmin shunmuki shunraiki shupattsudayo shura shuraba shuranosuk shurato shuryousha shusaku shuss shuten shuto shutsud shuu shuuchakueki shuuchuu shuudan shuugaku shuugakuryokou shuugyou shuukaku shuuketsu shuurai shuushoku shuushou si siberia sidonia sight sigma sign signal sijak silenc silence silent silver simoun sin sinbad sinc sindbad singl sinkan siren sirene siriu sist sister site siz skelter sket sketch ski skill skin skip skipper skirt skl skull sky skyscrap slam slap slapstick slayer slayers sleep sleeping slg slice slow slump smanim smil smile sniper snow soap soccer society sodatekata sodom softenni sojunghan soko sokou sol sola soldi soldier soliton solitud solitude solti soma somaru somera son song soniani sonic sonico sonnet sono sonzai sora soratobu sore soredemo soreike soresaemo sorett sorette soreyuk soreyuke sorezor sorrow sos soshit soshite sotsugy sotsugyou sou souai soubou souda soudanshitsu soudatsu souheki souja soukai soukan souken soukihei soukou soukyuu soul soultaker souma soumei sousakan sousaku sousam sousei souseiki soushi soushingekki soushisouai soushitsuky souten southern souzetsu soyokazeden sp space spaceship spain spare spartansex spasibo spec special specials spectral speed spelunk spermax spi spica spider spin spinner spinout spiral spirit spirits splash spocon sport spotlight spray spread spriggan spring sprite spt squad sri ss ssipak ssx st stage stain stainless stairs stand star stardust starless starlight starmyu starry starship start starzing station stay steamboy steins stella stellvia step ster stigma stile stitch stone stop storag stori story straight strain strait strang strange stranger strategi strato stratosphera straw strawberri stray stream street stretta stride strike striker stringendo strong studio style subarashii submarin suchie sugar sugiru sugit sugoi sugoshinagara suiei suieibu suieitaikai suika suikoden suiri suisei suisougaku suit suitai suitcas sukeban suki sukitt sukumi sukunai sum sumaseba sumika sumir summer sumomomo sumu sun suna sunabouzu sunadokei sunahama sunda sunday sunflow sunni sunr sunred sunshin sunshine sunzen super superflat superlink supernatur supers sure surg surpris suru surviv survivor sushi suspect susum susume suteki suvia suzu suzuka suzuki suzumiya sweat sweet sweetheart sweets swing switch sword sylvarant symphoni symphonia symphony taa tabena tabi tabibito tabidachi tabisuru taboo tachi tachiagare tachibana tachinu tack tactic tada tadaima taday tadoritsuita tagatam tai taidou taifuu taiga taiho taiiku taiji taikai taikei taiken taikutsu tail tailend taima taimad taiman taimanin tairan tairiki tairiku taisei taisen taisenki taisetsu taishou taisou taitei taiyou taizai taka takafumi takahashi takamiya takan takanashi takao takarabako takarajima takaramono takatsuki takayanagi takegami takeki takeshi taketori takibi takigakur takkyuubin takkyuubu takuhainin takuto tale talk tama tamago tamagotchi tamako tamala tamashii tamatama tamayura tamer tamers tami tan tanab tanabata tanaka tane taneyamagahara tang tani tanin tanjou tank tanken tankentai tanki tankoufu tanoshii tanpen tanpenshuu tansu tantei tanteibu tanteidan tanuki taose tarepanda target tari tarou taru taruto tasho tasogar tast tasuketa tasukete tasunet tatakae tatakaemasu tatakaeri tatakai tatakau tatematsurimasu tatsu tatta tattoo tattoon taxi tayu tayutama tayutayu tazunet tcg td teach teacher team tear teardrop tears teatrino techi techniqu technovor techou teekyuu tegami tegamibachi tei teikoku teio teito teizokurei teki tekkaman tekken tekketsu tekkin tekkon telepathi televis tell tempest tenamonya tenbatsu tenchi tenchou tenchuu tendou teng tengai tenge tengen tengoku tengu tenioha tenjou tenkai tenkomori tenkousei tenkuu tenkyou tenma tenmonbu tennen tenpou tenrankai tenri tensai tensei tenshi tenshitachi tenshou tentacl tentai teppei teppou terra territori terror tesagure tessaiga test testament tetsud tetsujin tetsuko tetsuwan tetsuya texhnolyz teyande tezuka th thanato thank theater therma thief thirteen thoma thriller throttl thunderbolt tia tiara tibet tick tico tide tiger tight tigre tile time tina tip titl toaru tobe tobidase tobidashit tobikag tobikkiri tobimaru tobira tobu todoita todok todoke todoki toei togainu togireta toi toiki tokeijikak toki tokimeki tokineiro tokio tokitama tokkou tokkyuu tokoro tokubetsu tokumei tokumu tokus tokuten tokyo tokyogurashi tom tomar tomaranai tomatteiru tomodachi tomodachinchi tomoka tomorrow tomoyo tonagura tonari tond tondekeman tondemo tondera tonelico tongari tonight tonkatsu tono tonto tooi toori tooru topo toppa tora toradora torar torawareta tori torid toriko torimodose torimonoch torino tortur toshi toshizou toshokan total toto totoro totsugeki totsuzen totta tottoko tou touch toug tougenkyou tough tougou touhai touhoku touhou toujou touka toukatsu toukichir toukiden toukyuuji toumei tour tournament tousaku toushi toushin toushinden toushou tousou touzoku towa tower town toy toyama toyota track tragic trailblaz trailer train training transform transformers translat trap trapp trash trava travel tre tree tri triag trial triangl triangle tribe trick trigger trigun trilog trilogy triniti tripl tripper tristia trooper troopers trophi tropic troubl true trunk truth try träumend tsf tsubaki tsubasa tsubomi tsugou tsugu tsugumi tsui tsuioku tsuit tsuitachi tsukai tsukaima tsukaiy tsukaritai tsuki tsukihim tsukikag tsukimonogatari tsukisase tsukiuta tsukiyo tsukumo tsukune tsukuyomi tsuma tsumaka tsumamigui tsumiki tsun tsunagi tsunagu tsunder tsunpri tsuppashire tsurai tsurerarete tsurikichi tsuritama tsurugi tsurumiku tsurupika tsutsumimasu tsuukaku tsuukin tsuushin tsuyoi tsuyokiss tsuyoku tsuyoshi tsuyu tsuzukeru tte ttori tulip tun tunnel turbo turn turtles tutu tv twilight twin twinkl twinkle twins twintail tylor tylostoma tytania uba ubawareta uchiag uchouten uchuu uchuugun uchuujin udewa ue ufo ug ugoku uhou ui uketsugareru ultim ultimatum ultra ultraviolet ulyss uma umacha umagon umaru umas umatteiru umezu umi umineko umish umiwashi unbal underground underworld undoukai unga unico unicorn unison unit univers unkokusai unlimit unmei unsweet uo upotte ura uragiraret uragiri urareta urashima urashiman urawa urayasu urda urotsuki urotsukidouji ursa uruk urusei usagi usakam usaru usavich ushinawareta ushio ushiro uso ut uta utag utahim utai utakata utattari utau utawarerumono utea utena utopa utopia utsu utsukushii utsukushiki utsukushiku utsuru uwasa v3 vacat vadasi valentin valentine valerian valkisa valkyri valkyria valkyrie valvrav vampir vampiyan vanadi vanadis vandread vanguard vanish vanquish varanoir variabl vassalord veda vegeta velonica vengeanc venic venom venu venus ver verit versail version versu versus vesperia vestroia vexille vf vibrat viciou vicki victori victorian video vie vierg vietnam viewti vii viii vike villgust vine vinu violenc violin viper virgin virtua viru virus visionari visual viva vivid vividr vocaloid voic volt voltag votom votoms voyag vs vu vulkan wa waga wagahai wagamama wagaya waisetsu waka wakaba wakako wakakusa wakana wakaokami wakaokusama wakaranai wakari wakaru wake waken wakusei wakuwaku walker walkur wall walpurgi waltz walzer wan wana wandaba wander wangan wangpai wangquan wani wanna wanpaku war warashi warau warawanai ware wari warm warrior wars warui wasshoi wasur wasurenagumo wasurerareta wata wataras wataridori wataru watashi watashitachi watasu wave waver way wayfar web webdiv wed weed weekend weiß welcom wellber werehog whistle white widow wieder wild willan win wind windaria window wine wing wingman winter wish wishes witch witchblad witches witt wixoss wizard wizardri wo wolf wolverin woman wonder wonderland wood wooo wooser word work working world worst worth wow wrestl wulong x2 xamdou xanadu xech xecutor xena xenoglossia xenosaga xi xiao xiii xma xoxo xro xtreme xv xx xxxholic xy x² yabai yabou yaburi yagami yagyuu yahari yaiba yakata yakin yakiniku yakitate yakuindomo yakumo yakusai yakushiji yakusoku yakyuu yakyuubu yama yamada yamai yamamoto yamato yamete yami yane yankee yaoi yaoyorozu yareru yaricchingu yarima yariman yarimasen yarou yaroudomo yaru yasai yasashii yasashiku yasei yasha yasoukyoku yasumanaid yasumi yat yatsu yatsura yattemita yatterman yattodetaman yawa yawara yawaraka yayoi year years yebisu yeowoo yeowoobi yes yesterday yo yoak yobai yobanaid yobeba yobigo yobik yobu yochou yodaka yogen yogosareta yohko yohouzu yoi yoichi yoiko yojouhan yokan yoki yoko yokohama yokorenbo yokoyama yokozawa yokub yokuj yokuryuu yome yomigaeranai yomigaeru yomiuri yon yona yond yondeiru yondemasu yonimo yonkur yonna yori yorinuki york yoroiden yoroshiku yoru yose yosuga yotar yotsuba yotsunoha yottsu youchien yougashiten youjin youjinb youjo youjuu youkai youki youko youkoso youkou youma young yousei youseiki yousu youth youzhou yowai yowamushi yoyo yoyogi yozakura ys yu yuan yubisaki yue yugami yugi yui yuigon yuki yukidok yukikaz yukinoj yukitsukai yukiyo yukizora yuku yume yumedamaya yumegatari yumekui yumekuri yumeria yumeyum yumi yumiya yun yuna yunyun yureru yuri yuria yuru yurum yurusarezarumono yushi yutori yuu yuudou yuugekitai yuugen yuugi yuugo yuuguu yuuhi yuujinch yuujinchou yuujou yuuka yuuki yuuna yuureisen yuuryouji yuusha yuushi yuuutsu yuuwaku yuyushiki zaibatsu zaihou zaika zak zaka zakuro zan zankyou zanmaden zanmai zanmaken zanryuu zantetsuken ze zecchou zegapain zeiram zekkyou zektbach zen zenbu zenin zeninshuugou zenjitsu zenki zenkoku zennin zenrakei zenryoku zentrix zenya zenzen zeon zeonic zeorym zero zestiria zeta zetman zetsuai zetsub zetsubou zetsuen zetsumetsu zetsurin zettai zexal zhe zhi zipang zo zoid zoku zombi zombie zone zonmi zoo zorori zorro zou zouryouchuu zunou zushiki zusshiri zutto zvezda zwei zz\n"
     ]
    }
   ],
   "source": [
    "print(*cv.get_feature_names_out())"
   ]
  },
  {
   "cell_type": "code",
   "execution_count": 36,
   "metadata": {},
   "outputs": [],
   "source": [
    "from sklearn.metrics.pairwise import cosine_similarity"
   ]
  },
  {
   "cell_type": "code",
   "execution_count": 37,
   "metadata": {},
   "outputs": [],
   "source": [
    "similarity = cosine_similarity(vector)"
   ]
  },
  {
   "cell_type": "code",
   "execution_count": 38,
   "metadata": {},
   "outputs": [
    {
     "data": {
      "text/plain": [
       "array([[1.        , 0.10206207, 0.        , ..., 0.        , 0.        ,\n",
       "        0.        ],\n",
       "       [0.10206207, 1.        , 0.26111648, ..., 0.        , 0.        ,\n",
       "        0.        ],\n",
       "       [0.        , 0.26111648, 1.        , ..., 0.        , 0.        ,\n",
       "        0.        ],\n",
       "       ...,\n",
       "       [0.        , 0.        , 0.        , ..., 1.        , 0.5       ,\n",
       "        0.57735027],\n",
       "       [0.        , 0.        , 0.        , ..., 0.5       , 1.        ,\n",
       "        0.57735027],\n",
       "       [0.        , 0.        , 0.        , ..., 0.57735027, 0.57735027,\n",
       "        1.        ]])"
      ]
     },
     "execution_count": 38,
     "metadata": {},
     "output_type": "execute_result"
    }
   ],
   "source": [
    "similarity"
   ]
  },
  {
   "cell_type": "code",
   "execution_count": 39,
   "metadata": {},
   "outputs": [
    {
     "data": {
      "text/plain": [
       "(6627, 6627)"
      ]
     },
     "execution_count": 39,
     "metadata": {},
     "output_type": "execute_result"
    }
   ],
   "source": [
    "similarity.shape"
   ]
  },
  {
   "cell_type": "code",
   "execution_count": 40,
   "metadata": {},
   "outputs": [
    {
     "data": {
      "text/html": [
       "<div>\n",
       "<style scoped>\n",
       "    .dataframe tbody tr th:only-of-type {\n",
       "        vertical-align: middle;\n",
       "    }\n",
       "\n",
       "    .dataframe tbody tr th {\n",
       "        vertical-align: top;\n",
       "    }\n",
       "\n",
       "    .dataframe thead th {\n",
       "        text-align: right;\n",
       "    }\n",
       "</style>\n",
       "<table border=\"1\" class=\"dataframe\">\n",
       "  <thead>\n",
       "    <tr style=\"text-align: right;\">\n",
       "      <th></th>\n",
       "      <th>anime_ids</th>\n",
       "      <th>MAL_ID</th>\n",
       "      <th>name</th>\n",
       "      <th>tags</th>\n",
       "    </tr>\n",
       "  </thead>\n",
       "  <tbody>\n",
       "    <tr>\n",
       "      <th>35</th>\n",
       "      <td>6</td>\n",
       "      <td>1535</td>\n",
       "      <td>Death Note</td>\n",
       "      <td>death note mysteri polic psycholog supernatur ...</td>\n",
       "    </tr>\n",
       "  </tbody>\n",
       "</table>\n",
       "</div>"
      ],
      "text/plain": [
       "    anime_ids  MAL_ID        name  \\\n",
       "35          6    1535  Death Note   \n",
       "\n",
       "                                                 tags  \n",
       "35  death note mysteri polic psycholog supernatur ...  "
      ]
     },
     "execution_count": 40,
     "metadata": {},
     "output_type": "execute_result"
    }
   ],
   "source": [
    "anime_df[anime_df['name'] == 'Death Note']"
   ]
  },
  {
   "cell_type": "code",
   "execution_count": 41,
   "metadata": {},
   "outputs": [],
   "source": [
    "def recommend(anime):\n",
    "    index = anime_df[anime_df['name'] == anime].index[0]\n",
    "    distances = sorted(list(enumerate(similarity[index])), reverse=True, key=lambda x:x[1])\n",
    "    data = []\n",
    "    for i in distances[1:6]:\n",
    "        data.append(anime_df.iloc[i[0]]['name'])\n",
    "    return data"
   ]
  },
  {
   "cell_type": "code",
   "execution_count": 42,
   "metadata": {},
   "outputs": [
    {
     "data": {
      "text/plain": [
       "['Mousou Dairinin', 'Death Parade', 'Monster', 'Death Billiards', 'Shiki']"
      ]
     },
     "execution_count": 42,
     "metadata": {},
     "output_type": "execute_result"
    }
   ],
   "source": [
    "recommend('Death Note')"
   ]
  },
  {
   "cell_type": "code",
   "execution_count": 43,
   "metadata": {},
   "outputs": [],
   "source": [
    "import pickle"
   ]
  },
  {
   "cell_type": "code",
   "execution_count": 44,
   "metadata": {},
   "outputs": [],
   "source": [
    "pickle.dump(anime_df,open('anime.pkl','wb'))\n",
    "pickle.dump(similarity,open('similarity.pkl','wb'))"
   ]
  },
  {
   "cell_type": "markdown",
   "metadata": {},
   "source": [
    "## Collaborative Filtering Based Recommender System"
   ]
  },
  {
   "cell_type": "markdown",
   "metadata": {},
   "source": [
    "#### CHANGE ANIME_ID TO ANIME_NAME\n"
   ]
  },
  {
   "cell_type": "code",
   "execution_count": 45,
   "metadata": {},
   "outputs": [],
   "source": [
    "x = rating.groupby('User_ID').count()['Feedback'] > 200\n",
    "anime_freaks = x[x].index"
   ]
  },
  {
   "cell_type": "code",
   "execution_count": 46,
   "metadata": {},
   "outputs": [],
   "source": [
    "filtered_rating = rating[rating['User_ID'].isin(anime_freaks)]"
   ]
  },
  {
   "cell_type": "code",
   "execution_count": 47,
   "metadata": {},
   "outputs": [],
   "source": [
    "filtered_rating = filtered_rating.merge(info[['name', 'anime_ids']].rename(columns={'anime_ids' : 'Anime_ID'}), on='Anime_ID')"
   ]
  },
  {
   "cell_type": "code",
   "execution_count": 48,
   "metadata": {},
   "outputs": [],
   "source": [
    "y = filtered_rating.groupby('name').count()['Feedback']>=50\n",
    "famous_anime = y[y].index"
   ]
  },
  {
   "cell_type": "code",
   "execution_count": 49,
   "metadata": {},
   "outputs": [],
   "source": [
    "final_ratings = filtered_rating[filtered_rating['name'].isin(famous_anime)]"
   ]
  },
  {
   "cell_type": "code",
   "execution_count": 50,
   "metadata": {},
   "outputs": [],
   "source": [
    "pt = final_ratings.pivot_table(index='name',columns='User_ID',values='Feedback')"
   ]
  },
  {
   "cell_type": "code",
   "execution_count": 51,
   "metadata": {},
   "outputs": [],
   "source": [
    "pt.fillna(0, inplace=True)"
   ]
  },
  {
   "cell_type": "code",
   "execution_count": 52,
   "metadata": {},
   "outputs": [
    {
     "data": {
      "text/html": [
       "<div>\n",
       "<style scoped>\n",
       "    .dataframe tbody tr th:only-of-type {\n",
       "        vertical-align: middle;\n",
       "    }\n",
       "\n",
       "    .dataframe tbody tr th {\n",
       "        vertical-align: top;\n",
       "    }\n",
       "\n",
       "    .dataframe thead th {\n",
       "        text-align: right;\n",
       "    }\n",
       "</style>\n",
       "<table border=\"1\" class=\"dataframe\">\n",
       "  <thead>\n",
       "    <tr style=\"text-align: right;\">\n",
       "      <th>User_ID</th>\n",
       "      <th>2</th>\n",
       "      <th>13</th>\n",
       "      <th>16</th>\n",
       "      <th>22</th>\n",
       "      <th>28</th>\n",
       "      <th>30</th>\n",
       "      <th>34</th>\n",
       "      <th>44</th>\n",
       "      <th>47</th>\n",
       "      <th>50</th>\n",
       "      <th>...</th>\n",
       "      <th>4868</th>\n",
       "      <th>4871</th>\n",
       "      <th>4882</th>\n",
       "      <th>4893</th>\n",
       "      <th>4913</th>\n",
       "      <th>4932</th>\n",
       "      <th>4946</th>\n",
       "      <th>4975</th>\n",
       "      <th>4981</th>\n",
       "      <th>4982</th>\n",
       "    </tr>\n",
       "    <tr>\n",
       "      <th>name</th>\n",
       "      <th></th>\n",
       "      <th></th>\n",
       "      <th></th>\n",
       "      <th></th>\n",
       "      <th></th>\n",
       "      <th></th>\n",
       "      <th></th>\n",
       "      <th></th>\n",
       "      <th></th>\n",
       "      <th></th>\n",
       "      <th></th>\n",
       "      <th></th>\n",
       "      <th></th>\n",
       "      <th></th>\n",
       "      <th></th>\n",
       "      <th></th>\n",
       "      <th></th>\n",
       "      <th></th>\n",
       "      <th></th>\n",
       "      <th></th>\n",
       "      <th></th>\n",
       "    </tr>\n",
       "  </thead>\n",
       "  <tbody>\n",
       "    <tr>\n",
       "      <th>.hack//Sign</th>\n",
       "      <td>0.0</td>\n",
       "      <td>0.0</td>\n",
       "      <td>0.0</td>\n",
       "      <td>0.0</td>\n",
       "      <td>0.0</td>\n",
       "      <td>0.0</td>\n",
       "      <td>7.0</td>\n",
       "      <td>0.0</td>\n",
       "      <td>0.0</td>\n",
       "      <td>0.0</td>\n",
       "      <td>...</td>\n",
       "      <td>0.0</td>\n",
       "      <td>0.0</td>\n",
       "      <td>0.0</td>\n",
       "      <td>0.0</td>\n",
       "      <td>0.0</td>\n",
       "      <td>0.0</td>\n",
       "      <td>0.0</td>\n",
       "      <td>8.0</td>\n",
       "      <td>0.0</td>\n",
       "      <td>0.0</td>\n",
       "    </tr>\n",
       "    <tr>\n",
       "      <th>07-Ghost</th>\n",
       "      <td>8.0</td>\n",
       "      <td>7.0</td>\n",
       "      <td>0.0</td>\n",
       "      <td>10.0</td>\n",
       "      <td>6.0</td>\n",
       "      <td>0.0</td>\n",
       "      <td>9.0</td>\n",
       "      <td>0.0</td>\n",
       "      <td>7.0</td>\n",
       "      <td>0.0</td>\n",
       "      <td>...</td>\n",
       "      <td>6.0</td>\n",
       "      <td>0.0</td>\n",
       "      <td>0.0</td>\n",
       "      <td>0.0</td>\n",
       "      <td>0.0</td>\n",
       "      <td>0.0</td>\n",
       "      <td>0.0</td>\n",
       "      <td>0.0</td>\n",
       "      <td>10.0</td>\n",
       "      <td>9.0</td>\n",
       "    </tr>\n",
       "    <tr>\n",
       "      <th>11eyes</th>\n",
       "      <td>3.0</td>\n",
       "      <td>7.0</td>\n",
       "      <td>10.0</td>\n",
       "      <td>6.0</td>\n",
       "      <td>0.0</td>\n",
       "      <td>0.0</td>\n",
       "      <td>7.0</td>\n",
       "      <td>3.0</td>\n",
       "      <td>6.0</td>\n",
       "      <td>0.0</td>\n",
       "      <td>...</td>\n",
       "      <td>0.0</td>\n",
       "      <td>0.0</td>\n",
       "      <td>0.0</td>\n",
       "      <td>0.0</td>\n",
       "      <td>0.0</td>\n",
       "      <td>8.0</td>\n",
       "      <td>0.0</td>\n",
       "      <td>0.0</td>\n",
       "      <td>0.0</td>\n",
       "      <td>7.0</td>\n",
       "    </tr>\n",
       "    <tr>\n",
       "      <th>11eyes: Momoiro Genmutan</th>\n",
       "      <td>0.0</td>\n",
       "      <td>8.0</td>\n",
       "      <td>0.0</td>\n",
       "      <td>5.0</td>\n",
       "      <td>0.0</td>\n",
       "      <td>0.0</td>\n",
       "      <td>0.0</td>\n",
       "      <td>0.0</td>\n",
       "      <td>3.0</td>\n",
       "      <td>0.0</td>\n",
       "      <td>...</td>\n",
       "      <td>0.0</td>\n",
       "      <td>0.0</td>\n",
       "      <td>0.0</td>\n",
       "      <td>0.0</td>\n",
       "      <td>0.0</td>\n",
       "      <td>0.0</td>\n",
       "      <td>0.0</td>\n",
       "      <td>0.0</td>\n",
       "      <td>0.0</td>\n",
       "      <td>0.0</td>\n",
       "    </tr>\n",
       "    <tr>\n",
       "      <th>91 Days</th>\n",
       "      <td>9.0</td>\n",
       "      <td>0.0</td>\n",
       "      <td>0.0</td>\n",
       "      <td>10.0</td>\n",
       "      <td>0.0</td>\n",
       "      <td>0.0</td>\n",
       "      <td>0.0</td>\n",
       "      <td>0.0</td>\n",
       "      <td>0.0</td>\n",
       "      <td>0.0</td>\n",
       "      <td>...</td>\n",
       "      <td>0.0</td>\n",
       "      <td>10.0</td>\n",
       "      <td>0.0</td>\n",
       "      <td>0.0</td>\n",
       "      <td>0.0</td>\n",
       "      <td>0.0</td>\n",
       "      <td>0.0</td>\n",
       "      <td>0.0</td>\n",
       "      <td>7.0</td>\n",
       "      <td>0.0</td>\n",
       "    </tr>\n",
       "    <tr>\n",
       "      <th>...</th>\n",
       "      <td>...</td>\n",
       "      <td>...</td>\n",
       "      <td>...</td>\n",
       "      <td>...</td>\n",
       "      <td>...</td>\n",
       "      <td>...</td>\n",
       "      <td>...</td>\n",
       "      <td>...</td>\n",
       "      <td>...</td>\n",
       "      <td>...</td>\n",
       "      <td>...</td>\n",
       "      <td>...</td>\n",
       "      <td>...</td>\n",
       "      <td>...</td>\n",
       "      <td>...</td>\n",
       "      <td>...</td>\n",
       "      <td>...</td>\n",
       "      <td>...</td>\n",
       "      <td>...</td>\n",
       "      <td>...</td>\n",
       "      <td>...</td>\n",
       "    </tr>\n",
       "    <tr>\n",
       "      <th>xxxHOLiC</th>\n",
       "      <td>0.0</td>\n",
       "      <td>7.0</td>\n",
       "      <td>9.0</td>\n",
       "      <td>0.0</td>\n",
       "      <td>0.0</td>\n",
       "      <td>0.0</td>\n",
       "      <td>8.0</td>\n",
       "      <td>0.0</td>\n",
       "      <td>0.0</td>\n",
       "      <td>0.0</td>\n",
       "      <td>...</td>\n",
       "      <td>0.0</td>\n",
       "      <td>0.0</td>\n",
       "      <td>0.0</td>\n",
       "      <td>0.0</td>\n",
       "      <td>0.0</td>\n",
       "      <td>9.0</td>\n",
       "      <td>0.0</td>\n",
       "      <td>9.0</td>\n",
       "      <td>0.0</td>\n",
       "      <td>0.0</td>\n",
       "    </tr>\n",
       "    <tr>\n",
       "      <th>xxxHOLiC Kei</th>\n",
       "      <td>0.0</td>\n",
       "      <td>8.0</td>\n",
       "      <td>9.0</td>\n",
       "      <td>0.0</td>\n",
       "      <td>0.0</td>\n",
       "      <td>0.0</td>\n",
       "      <td>9.0</td>\n",
       "      <td>0.0</td>\n",
       "      <td>0.0</td>\n",
       "      <td>0.0</td>\n",
       "      <td>...</td>\n",
       "      <td>0.0</td>\n",
       "      <td>0.0</td>\n",
       "      <td>0.0</td>\n",
       "      <td>0.0</td>\n",
       "      <td>0.0</td>\n",
       "      <td>9.0</td>\n",
       "      <td>0.0</td>\n",
       "      <td>9.0</td>\n",
       "      <td>0.0</td>\n",
       "      <td>0.0</td>\n",
       "    </tr>\n",
       "    <tr>\n",
       "      <th>xxxHOLiC Movie: Manatsu no Yoru no Yume</th>\n",
       "      <td>0.0</td>\n",
       "      <td>7.0</td>\n",
       "      <td>0.0</td>\n",
       "      <td>0.0</td>\n",
       "      <td>0.0</td>\n",
       "      <td>0.0</td>\n",
       "      <td>9.0</td>\n",
       "      <td>0.0</td>\n",
       "      <td>0.0</td>\n",
       "      <td>0.0</td>\n",
       "      <td>...</td>\n",
       "      <td>0.0</td>\n",
       "      <td>0.0</td>\n",
       "      <td>0.0</td>\n",
       "      <td>0.0</td>\n",
       "      <td>0.0</td>\n",
       "      <td>9.0</td>\n",
       "      <td>0.0</td>\n",
       "      <td>9.0</td>\n",
       "      <td>0.0</td>\n",
       "      <td>0.0</td>\n",
       "    </tr>\n",
       "    <tr>\n",
       "      <th>xxxHOLiC Rou</th>\n",
       "      <td>0.0</td>\n",
       "      <td>0.0</td>\n",
       "      <td>0.0</td>\n",
       "      <td>0.0</td>\n",
       "      <td>0.0</td>\n",
       "      <td>0.0</td>\n",
       "      <td>10.0</td>\n",
       "      <td>0.0</td>\n",
       "      <td>0.0</td>\n",
       "      <td>0.0</td>\n",
       "      <td>...</td>\n",
       "      <td>0.0</td>\n",
       "      <td>0.0</td>\n",
       "      <td>0.0</td>\n",
       "      <td>0.0</td>\n",
       "      <td>0.0</td>\n",
       "      <td>9.0</td>\n",
       "      <td>0.0</td>\n",
       "      <td>0.0</td>\n",
       "      <td>0.0</td>\n",
       "      <td>0.0</td>\n",
       "    </tr>\n",
       "    <tr>\n",
       "      <th>xxxHOLiC Shunmuki</th>\n",
       "      <td>0.0</td>\n",
       "      <td>8.0</td>\n",
       "      <td>0.0</td>\n",
       "      <td>0.0</td>\n",
       "      <td>0.0</td>\n",
       "      <td>0.0</td>\n",
       "      <td>9.0</td>\n",
       "      <td>0.0</td>\n",
       "      <td>0.0</td>\n",
       "      <td>0.0</td>\n",
       "      <td>...</td>\n",
       "      <td>0.0</td>\n",
       "      <td>0.0</td>\n",
       "      <td>0.0</td>\n",
       "      <td>0.0</td>\n",
       "      <td>0.0</td>\n",
       "      <td>9.0</td>\n",
       "      <td>0.0</td>\n",
       "      <td>9.0</td>\n",
       "      <td>0.0</td>\n",
       "      <td>0.0</td>\n",
       "    </tr>\n",
       "  </tbody>\n",
       "</table>\n",
       "<p>1103 rows × 568 columns</p>\n",
       "</div>"
      ],
      "text/plain": [
       "User_ID                                  2     13    16    22    28    30    \\\n",
       "name                                                                          \n",
       ".hack//Sign                               0.0   0.0   0.0   0.0   0.0   0.0   \n",
       "07-Ghost                                  8.0   7.0   0.0  10.0   6.0   0.0   \n",
       "11eyes                                    3.0   7.0  10.0   6.0   0.0   0.0   \n",
       "11eyes: Momoiro Genmutan                  0.0   8.0   0.0   5.0   0.0   0.0   \n",
       "91 Days                                   9.0   0.0   0.0  10.0   0.0   0.0   \n",
       "...                                       ...   ...   ...   ...   ...   ...   \n",
       "xxxHOLiC                                  0.0   7.0   9.0   0.0   0.0   0.0   \n",
       "xxxHOLiC Kei                              0.0   8.0   9.0   0.0   0.0   0.0   \n",
       "xxxHOLiC Movie: Manatsu no Yoru no Yume   0.0   7.0   0.0   0.0   0.0   0.0   \n",
       "xxxHOLiC Rou                              0.0   0.0   0.0   0.0   0.0   0.0   \n",
       "xxxHOLiC Shunmuki                         0.0   8.0   0.0   0.0   0.0   0.0   \n",
       "\n",
       "User_ID                                  34    44    47    50    ...  4868  \\\n",
       "name                                                             ...         \n",
       ".hack//Sign                               7.0   0.0   0.0   0.0  ...   0.0   \n",
       "07-Ghost                                  9.0   0.0   7.0   0.0  ...   6.0   \n",
       "11eyes                                    7.0   3.0   6.0   0.0  ...   0.0   \n",
       "11eyes: Momoiro Genmutan                  0.0   0.0   3.0   0.0  ...   0.0   \n",
       "91 Days                                   0.0   0.0   0.0   0.0  ...   0.0   \n",
       "...                                       ...   ...   ...   ...  ...   ...   \n",
       "xxxHOLiC                                  8.0   0.0   0.0   0.0  ...   0.0   \n",
       "xxxHOLiC Kei                              9.0   0.0   0.0   0.0  ...   0.0   \n",
       "xxxHOLiC Movie: Manatsu no Yoru no Yume   9.0   0.0   0.0   0.0  ...   0.0   \n",
       "xxxHOLiC Rou                             10.0   0.0   0.0   0.0  ...   0.0   \n",
       "xxxHOLiC Shunmuki                         9.0   0.0   0.0   0.0  ...   0.0   \n",
       "\n",
       "User_ID                                  4871  4882  4893  4913  4932  4946  \\\n",
       "name                                                                          \n",
       ".hack//Sign                               0.0   0.0   0.0   0.0   0.0   0.0   \n",
       "07-Ghost                                  0.0   0.0   0.0   0.0   0.0   0.0   \n",
       "11eyes                                    0.0   0.0   0.0   0.0   8.0   0.0   \n",
       "11eyes: Momoiro Genmutan                  0.0   0.0   0.0   0.0   0.0   0.0   \n",
       "91 Days                                  10.0   0.0   0.0   0.0   0.0   0.0   \n",
       "...                                       ...   ...   ...   ...   ...   ...   \n",
       "xxxHOLiC                                  0.0   0.0   0.0   0.0   9.0   0.0   \n",
       "xxxHOLiC Kei                              0.0   0.0   0.0   0.0   9.0   0.0   \n",
       "xxxHOLiC Movie: Manatsu no Yoru no Yume   0.0   0.0   0.0   0.0   9.0   0.0   \n",
       "xxxHOLiC Rou                              0.0   0.0   0.0   0.0   9.0   0.0   \n",
       "xxxHOLiC Shunmuki                         0.0   0.0   0.0   0.0   9.0   0.0   \n",
       "\n",
       "User_ID                                  4975  4981  4982  \n",
       "name                                                       \n",
       ".hack//Sign                               8.0   0.0   0.0  \n",
       "07-Ghost                                  0.0  10.0   9.0  \n",
       "11eyes                                    0.0   0.0   7.0  \n",
       "11eyes: Momoiro Genmutan                  0.0   0.0   0.0  \n",
       "91 Days                                   0.0   7.0   0.0  \n",
       "...                                       ...   ...   ...  \n",
       "xxxHOLiC                                  9.0   0.0   0.0  \n",
       "xxxHOLiC Kei                              9.0   0.0   0.0  \n",
       "xxxHOLiC Movie: Manatsu no Yoru no Yume   9.0   0.0   0.0  \n",
       "xxxHOLiC Rou                              0.0   0.0   0.0  \n",
       "xxxHOLiC Shunmuki                         9.0   0.0   0.0  \n",
       "\n",
       "[1103 rows x 568 columns]"
      ]
     },
     "execution_count": 52,
     "metadata": {},
     "output_type": "execute_result"
    }
   ],
   "source": [
    "pt"
   ]
  },
  {
   "cell_type": "code",
   "execution_count": 53,
   "metadata": {},
   "outputs": [],
   "source": [
    "from sklearn.metrics.pairwise import cosine_similarity"
   ]
  },
  {
   "cell_type": "code",
   "execution_count": 54,
   "metadata": {},
   "outputs": [],
   "source": [
    "similarity_score = cosine_similarity(pt)"
   ]
  },
  {
   "cell_type": "code",
   "execution_count": 55,
   "metadata": {},
   "outputs": [
    {
     "data": {
      "text/plain": [
       "array([[1.        , 0.22418153, 0.27229099, ..., 0.17873266, 0.13929449,\n",
       "        0.14468645],\n",
       "       [0.22418153, 1.        , 0.40783408, ..., 0.29052496, 0.19722171,\n",
       "        0.2506436 ],\n",
       "       [0.27229099, 0.40783408, 1.        , ..., 0.22857425, 0.1778466 ,\n",
       "        0.17855951],\n",
       "       ...,\n",
       "       [0.17873266, 0.29052496, 0.22857425, ..., 1.        , 0.55015308,\n",
       "        0.62719828],\n",
       "       [0.13929449, 0.19722171, 0.1778466 , ..., 0.55015308, 1.        ,\n",
       "        0.83209922],\n",
       "       [0.14468645, 0.2506436 , 0.17855951, ..., 0.62719828, 0.83209922,\n",
       "        1.        ]])"
      ]
     },
     "execution_count": 55,
     "metadata": {},
     "output_type": "execute_result"
    }
   ],
   "source": [
    "similarity_score"
   ]
  },
  {
   "cell_type": "code",
   "execution_count": 56,
   "metadata": {},
   "outputs": [
    {
     "data": {
      "text/plain": [
       "(1103, 1103)"
      ]
     },
     "execution_count": 56,
     "metadata": {},
     "output_type": "execute_result"
    }
   ],
   "source": [
    "similarity_score.shape"
   ]
  },
  {
   "cell_type": "code",
   "execution_count": 57,
   "metadata": {},
   "outputs": [],
   "source": [
    "def recommend_collaborative(anime):\n",
    "    index = np.where(pt.index == anime)[0][0]\n",
    "    similar_items = sorted(list(enumerate(similarity_score[index])), key=lambda x:x[1], reverse=True)[1:6]\n",
    "\n",
    "    data = []\n",
    "    for i in similar_items:\n",
    "        data.append(pt.index[i[0]])\n",
    "    return data"
   ]
  },
  {
   "cell_type": "code",
   "execution_count": 58,
   "metadata": {},
   "outputs": [
    {
     "data": {
      "text/plain": [
       "['Dragon Ball', 'Dragon Ball GT', 'Naruto', 'Death Note', 'Sword Art Online']"
      ]
     },
     "execution_count": 58,
     "metadata": {},
     "output_type": "execute_result"
    }
   ],
   "source": [
    "recommend_collaborative('Dragon Ball Z')"
   ]
  },
  {
   "cell_type": "code",
   "execution_count": 59,
   "metadata": {},
   "outputs": [],
   "source": [
    "import pickle\n",
    "pickle.dump(pt, open('pt_collab.pkl', 'wb'))\n",
    "pickle.dump(info, open('anime_collab.pkl', 'wb'))\n",
    "pickle.dump(similarity_score, open('similarity_scores_collab.pkl', 'wb'))"
   ]
  },
  {
   "cell_type": "markdown",
   "metadata": {},
   "source": [
    "## Hybrid Recommendation System"
   ]
  },
  {
   "cell_type": "code",
   "execution_count": 60,
   "metadata": {},
   "outputs": [
    {
     "data": {
      "text/plain": [
       "['Tokyo Ghoul',\n",
       " 'Fate/Zero',\n",
       " 'Fullmetal Alchemist: Brotherhood',\n",
       " 'Neon Genesis Evangelion',\n",
       " 'Mousou Dairinin']"
      ]
     },
     "execution_count": 60,
     "metadata": {},
     "output_type": "execute_result"
    }
   ],
   "source": [
    "\n",
    "def hybrid_recommendation(anime_name, n_recommend=5):\n",
    "    content_based = recommend(anime_name)\n",
    "    collaborative_based = recommend_collaborative(anime_name)\n",
    "\n",
    "    return list(set(content_based + collaborative_based))[:n_recommend]\n",
    "\n",
    "hybrid_recommendation('Monster')"
   ]
  },
  {
   "cell_type": "markdown",
   "metadata": {},
   "source": [
    "## Myanimelist API integration"
   ]
  },
  {
   "cell_type": "code",
   "execution_count": 61,
   "metadata": {},
   "outputs": [
    {
     "data": {
      "text/plain": [
       "'https://cdn.myanimelist.net/images/anime/1079/138100.jpg'"
      ]
     },
     "execution_count": 61,
     "metadata": {},
     "output_type": "execute_result"
    }
   ],
   "source": [
    "# get anime details\n",
    "\n",
    "api = 'c53353c21a96e75b6a191826c417a5f7'\n",
    "\n",
    "import requests\n",
    "\n",
    "headers = {\n",
    "    'X-MAL-CLIENT-ID': api\n",
    "}\n",
    "\n",
    "response = requests.request(url = 'https://api.myanimelist.net/v2/anime/1535?fields=id,title,main_picture,alternative_titles,start_date,end_date,synopsis,mean,rank,popularity,num_list_users,num_scoring_users,nsfw,created_at,updated_at,media_type,status,genres,my_list_status,num_episodes,start_season,broadcast,source,average_episode_duration,rating,pictures,background,related_anime,related_manga,recommendations,studios,statistics',\n",
    "                 headers=headers,\n",
    "                 method='get')\n",
    "response.json()['main_picture']['medium']"
   ]
  },
  {
   "cell_type": "code",
   "execution_count": 64,
   "metadata": {},
   "outputs": [
    {
     "data": {
      "text/plain": [
       "array(['.hack//Sign', '07-Ghost', '11eyes', ...,\n",
       "       'xxxHOLiC Movie: Manatsu no Yoru no Yume', 'xxxHOLiC Rou',\n",
       "       'xxxHOLiC Shunmuki'], dtype=object)"
      ]
     },
     "execution_count": 64,
     "metadata": {},
     "output_type": "execute_result"
    }
   ],
   "source": [
    "pt.index.values"
   ]
  }
 ],
 "metadata": {
  "kernelspec": {
   "display_name": "Python 3",
   "language": "python",
   "name": "python3"
  },
  "language_info": {
   "codemirror_mode": {
    "name": "ipython",
    "version": 3
   },
   "file_extension": ".py",
   "mimetype": "text/x-python",
   "name": "python",
   "nbconvert_exporter": "python",
   "pygments_lexer": "ipython3",
   "version": "3.11.9"
  }
 },
 "nbformat": 4,
 "nbformat_minor": 2
}
